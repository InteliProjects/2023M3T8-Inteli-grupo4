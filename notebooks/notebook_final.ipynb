{
  "cells": [
    {
      "cell_type": "markdown",
      "metadata": {
        "id": "vQsiYz38mT5P"
      },
      "source": [
        "# **Importação de bibliotecas e datasets**"
      ]
    },
    {
      "cell_type": "code",
      "execution_count": null,
      "metadata": {
        "colab": {
          "base_uri": "https://localhost:8080/"
        },
        "id": "ZOBSZkS2kPD4",
        "outputId": "9e9e20bf-9ff3-4b0d-facb-230aa671ae56"
      },
      "outputs": [
        {
          "name": "stdout",
          "output_type": "stream",
          "text": [
            "Requirement already satisfied: geocoder in /usr/local/lib/python3.10/dist-packages (1.38.1)\n",
            "Requirement already satisfied: click in /usr/local/lib/python3.10/dist-packages (from geocoder) (8.1.7)\n",
            "Requirement already satisfied: future in /usr/local/lib/python3.10/dist-packages (from geocoder) (0.18.3)\n",
            "Requirement already satisfied: ratelim in /usr/local/lib/python3.10/dist-packages (from geocoder) (0.1.6)\n",
            "Requirement already satisfied: requests in /usr/local/lib/python3.10/dist-packages (from geocoder) (2.31.0)\n",
            "Requirement already satisfied: six in /usr/local/lib/python3.10/dist-packages (from geocoder) (1.16.0)\n",
            "Requirement already satisfied: decorator in /usr/local/lib/python3.10/dist-packages (from ratelim->geocoder) (4.4.2)\n",
            "Requirement already satisfied: charset-normalizer<4,>=2 in /usr/local/lib/python3.10/dist-packages (from requests->geocoder) (3.2.0)\n",
            "Requirement already satisfied: idna<4,>=2.5 in /usr/local/lib/python3.10/dist-packages (from requests->geocoder) (3.4)\n",
            "Requirement already satisfied: urllib3<3,>=1.21.1 in /usr/local/lib/python3.10/dist-packages (from requests->geocoder) (2.0.5)\n",
            "Requirement already satisfied: certifi>=2017.4.17 in /usr/local/lib/python3.10/dist-packages (from requests->geocoder) (2023.7.22)\n",
            "Requirement already satisfied: geopy in /usr/local/lib/python3.10/dist-packages (2.3.0)\n",
            "Requirement already satisfied: geographiclib<3,>=1.52 in /usr/local/lib/python3.10/dist-packages (from geopy) (2.0)\n",
            "Collecting geotext\n",
            "  Downloading geotext-0.4.0-py2.py3-none-any.whl (2.0 MB)\n",
            "\u001b[2K     \u001b[90m━━━━━━━━━━━━━━━━━━━━━━━━━━━━━━━━━━━━━━━━\u001b[0m \u001b[32m2.0/2.0 MB\u001b[0m \u001b[31m12.8 MB/s\u001b[0m eta \u001b[36m0:00:00\u001b[0m\n",
            "\u001b[?25hInstalling collected packages: geotext\n",
            "Successfully installed geotext-0.4.0\n"
          ]
        }
      ],
      "source": [
        "!pip install geocoder\n",
        "!pip install geopy\n",
        "!pip install geotext"
      ]
    },
    {
      "cell_type": "code",
      "execution_count": 1,
      "metadata": {
        "id": "GdMJtRyGqm8N"
      },
      "outputs": [],
      "source": [
        "import pandas as pd\n",
        "import numpy as np\n",
        "from matplotlib import pyplot as plt"
      ]
    },
    {
      "cell_type": "code",
      "execution_count": 2,
      "metadata": {
        "colab": {
          "base_uri": "https://localhost:8080/"
        },
        "id": "MfOJZ3-fq4p9",
        "outputId": "9e59c4c9-4406-4805-f52e-51e95f5d83c3"
      },
      "outputs": [
        {
          "name": "stdout",
          "output_type": "stream",
          "text": [
            "Downloading...\n",
            "From: https://drive.google.com/uc?id=1ZtcisJyFRPPHCwkS4Ua1tHGosAzjyAwp\n",
            "To: /content/job_opportunity_details (1).csv\n",
            "100% 21.8k/21.8k [00:00<00:00, 52.5MB/s]\n",
            "Downloading...\n",
            "From: https://drive.google.com/uc?id=1hhnCTIA8vsh9eHlmipQw3CNi7K4CdS-3\n",
            "To: /content/job_opportunity_etapas_inteli.csv\n",
            "100% 45.7k/45.7k [00:00<00:00, 44.1MB/s]\n",
            "Downloading...\n",
            "From: https://drive.google.com/uc?id=1Kt-qDuHs80MJfY_0LjPfuaDkoOP8I0nI\n",
            "To: /content/journeys_inteli.csv\n",
            "100% 49.4k/49.4k [00:00<00:00, 62.7MB/s]\n",
            "Downloading...\n",
            "From: https://drive.google.com/uc?id=1p7AJDKjut6n48tFageRuKXWCCF6S7g_A\n",
            "To: /content/user_interests_inteli.csv\n",
            "100% 1.34M/1.34M [00:00<00:00, 121MB/s]\n",
            "Downloading...\n",
            "From: https://drive.google.com/uc?id=1ORckd1VG0Z3H8GZ73r650-wxAlmYer1X\n",
            "To: /content/user_journeys_inteli.csv\n",
            "100% 3.99M/3.99M [00:00<00:00, 78.9MB/s]\n",
            "Downloading...\n",
            "From: https://drive.google.com/uc?id=1uTn24UaqPqdg9phKSn50zte23MAjFtt3\n",
            "To: /content/user_lifestyle_inteli.csv\n",
            "100% 3.91M/3.91M [00:00<00:00, 171MB/s]\n",
            "Downloading...\n",
            "From: https://drive.google.com/uc?id=1IAGDoffPChTbDuNKtibIuBWVrTDbTdeh\n",
            "To: /content/user_objectives_inteli.csv\n",
            "100% 1.48M/1.48M [00:00<00:00, 142MB/s]\n",
            "Downloading...\n",
            "From: https://drive.google.com/uc?id=1IR_KPsihxDyXJpqXvlW6K77JGKMA-cMM\n",
            "To: /content/user_superfit_inteli.csv\n",
            "100% 3.00M/3.00M [00:00<00:00, 198MB/s]\n",
            "Downloading...\n",
            "From: https://drive.google.com/uc?id=1_obO4E2K5EA7pdonU7lfovWJ_RcKa3Qb\n",
            "To: /content/user_superfit_shortlist_inteli.csv\n",
            "100% 333k/333k [00:00<00:00, 87.7MB/s]\n",
            "Downloading...\n",
            "From: https://drive.google.com/uc?id=1P4TV9eZfe1zmYJJGs5pY-PNtOPmnODFD\n",
            "To: /content/users_tests_inteli.csv\n",
            "100% 3.37M/3.37M [00:00<00:00, 161MB/s]\n",
            "Downloading...\n",
            "From: https://drive.google.com/uc?id=1oo6IkVTdewjRoXOhbEM-b7TAbyIgOYki\n",
            "To: /content/job_opportunity_superfit_consolidates.csv\n",
            "100% 17.2k/17.2k [00:00<00:00, 44.6MB/s]\n",
            "Downloading...\n",
            "From: https://drive.google.com/uc?id=1TVGZ07a8n00liU_HTlyqieKizkYH3qhv\n",
            "To: /content/job_opportunity_workstyle_consolidates.csv\n",
            "100% 17.0k/17.0k [00:00<00:00, 40.7MB/s]\n",
            "Downloading...\n",
            "From: https://drive.google.com/uc?id=1yfQ2Fq2FWmf0TLnMj8k-bmsnGWkCQjsT\n",
            "To: /content/job_completo_with_LongLat_and_Intetests_correct.csv\n",
            "100% 40.3k/40.3k [00:00<00:00, 71.7MB/s]\n",
            "Downloading...\n",
            "From: https://drive.google.com/uc?id=1axNH7iKHppF4DRR3ah5lujoTOWPC9Yw7\n",
            "To: /content/user_completo_with_LongLat.csv\n",
            "100% 14.2M/14.2M [00:00<00:00, 89.0MB/s]\n"
          ]
        }
      ],
      "source": [
        "!gdown 1ZtcisJyFRPPHCwkS4Ua1tHGosAzjyAwp\n",
        "!gdown 1hhnCTIA8vsh9eHlmipQw3CNi7K4CdS-3\n",
        "!gdown 1Kt-qDuHs80MJfY_0LjPfuaDkoOP8I0nI\n",
        "!gdown 1p7AJDKjut6n48tFageRuKXWCCF6S7g_A\n",
        "!gdown 1ORckd1VG0Z3H8GZ73r650-wxAlmYer1X\n",
        "!gdown 1uTn24UaqPqdg9phKSn50zte23MAjFtt3\n",
        "!gdown 1IAGDoffPChTbDuNKtibIuBWVrTDbTdeh\n",
        "!gdown 1IR_KPsihxDyXJpqXvlW6K77JGKMA-cMM\n",
        "!gdown 1_obO4E2K5EA7pdonU7lfovWJ_RcKa3Qb\n",
        "!gdown 1P4TV9eZfe1zmYJJGs5pY-PNtOPmnODFD\n",
        "!gdown 1oo6IkVTdewjRoXOhbEM-b7TAbyIgOYki\n",
        "!gdown 1TVGZ07a8n00liU_HTlyqieKizkYH3qhv\n",
        "!gdown 1yfQ2Fq2FWmf0TLnMj8k-bmsnGWkCQjsT\n",
        "!gdown 1axNH7iKHppF4DRR3ah5lujoTOWPC9Yw7"
      ]
    },
    {
      "cell_type": "code",
      "execution_count": null,
      "metadata": {
        "id": "64R-9x8Mq5mI"
      },
      "outputs": [],
      "source": [
        "user_testes = pd.read_csv('/content/users_tests_inteli.csv')\n",
        "user_genius = pd.read_csv('/content/user_superfit_inteli.csv')\n",
        "user_objective = pd.read_csv('/content/user_objectives_inteli.csv')\n",
        "user_life =pd.read_csv('/content/user_lifestyle_inteli.csv')\n",
        "user_journeys = pd.read_csv('/content/user_journeys_inteli.csv')\n",
        "user_interests = pd.read_csv('/content/user_interests_inteli.csv')\n",
        "job_opp_life = pd.read_csv('/content/job_opportunity_workstyle_consolidates.csv')\n",
        "job_opp_genius = pd.read_csv('/content/job_opportunity_superfit_consolidates.csv')\n",
        "job_opp_datails=pd.read_csv('job_opportunity_details (1).csv')\n",
        "job_opp_etapas_inteli = pd.read_csv('/content/job_opportunity_etapas_inteli.csv')\n",
        "journeys_inteli = pd.read_csv('/content/journeys_inteli.csv')\n",
        "user_superfit_shortlist_inteli = pd.read_csv('/content/user_superfit_shortlist_inteli.csv')\n"
      ]
    },
    {
      "cell_type": "code",
      "execution_count": 3,
      "metadata": {
        "id": "D1GGRgGxsUC1"
      },
      "outputs": [],
      "source": [
        "#datasets já tratados (extração de latitude,longitude e area)\n",
        "user_completo = pd.read_csv('/content/user_completo_with_LongLat.csv')\n",
        "job_completo = pd.read_csv('/content/job_completo_with_LongLat_and_Intetests_correct.csv')"
      ]
    },
    {
      "cell_type": "code",
      "execution_count": 4,
      "metadata": {
        "id": "WaqVLCRisT7t"
      },
      "outputs": [],
      "source": [
        "job_completo.drop('Unnamed: 0',axis=1,inplace=True)\n",
        "user_completo.drop('Unnamed: 0',axis=1,inplace=True)"
      ]
    },
    {
      "cell_type": "markdown",
      "metadata": {
        "id": "j43BzutyJbE-"
      },
      "source": [
        "Vá até a seção de nome \"Verificando valores nulos das tabelas anexadas\" para executar o tratamento restante, caso carregue estes"
      ]
    },
    {
      "cell_type": "markdown",
      "metadata": {
        "id": "5DH0HdDOmUJb"
      },
      "source": [
        "# **Pré-Processamento e Tratamento de Dados**"
      ]
    },
    {
      "cell_type": "markdown",
      "metadata": {
        "id": "rAOfHdQEv1Z3"
      },
      "source": [
        "### Verificando os dados nulos de cada coluna das tabela, ou seja, quantos e onde"
      ]
    },
    {
      "cell_type": "code",
      "execution_count": null,
      "metadata": {
        "id": "5efN2s-moER5"
      },
      "outputs": [],
      "source": [
        "print('job_life')\n",
        "print(job_opp_life.isnull().sum())\n",
        "print()\n",
        "print('job_detail')\n",
        "print(job_opp_datails.isnull().sum())\n",
        "print()\n",
        "print('job_genius')\n",
        "print(job_opp_genius.isnull().sum())\n",
        "print()\n",
        "print('user_genius')\n",
        "print(user_genius.isnull().sum())\n",
        "print()\n",
        "print('user_lifestyle')\n",
        "print(user_life.isnull().sum())\n",
        "print()\n",
        "print('user_lifestyle')\n",
        "print(user_life.isnull().sum())\n",
        "print()\n",
        "print('user_journey')\n",
        "print(user_journeys.isnull().sum())\n",
        "print()\n",
        "print('user_testes')\n",
        "print(user_testes.isnull().sum())\n",
        "print()\n",
        "# print('users_contratados')\n",
        "# print(users_contratados.isnull().sum())\n",
        "# print()\n",
        "print('user_objective')\n",
        "print(user_objective.isnull().sum())\n",
        "print()\n",
        "print('user_interests')\n",
        "print(user_interests.isnull().sum())\n",
        "print()\n",
        "print('journeys')\n",
        "print(journeys_inteli.isnull().sum())\n"
      ]
    },
    {
      "cell_type": "code",
      "execution_count": null,
      "metadata": {
        "id": "vY3CWZBHkP03"
      },
      "outputs": [],
      "source": [
        "user_testes[~user_testes['user_id'].isnull()].isnull().sum()"
      ]
    },
    {
      "cell_type": "code",
      "execution_count": null,
      "metadata": {
        "id": "fQB8pU0VjxXF"
      },
      "outputs": [],
      "source": [
        "user_testes[(~user_testes['cidade_usuario'].isnull())&(~user_testes['curso'].isnull())].count()"
      ]
    },
    {
      "cell_type": "markdown",
      "metadata": {
        "id": "Ak3VGhvMkVGX"
      },
      "source": [
        "\n",
        "\n",
        "## Verificando os nomes das colunas e se apresentam as colunas na mesma ordem\n"
      ]
    },
    {
      "cell_type": "code",
      "execution_count": null,
      "metadata": {
        "id": "YKurXMYvkQYX"
      },
      "outputs": [],
      "source": [
        "job_opp_genius.columns"
      ]
    },
    {
      "cell_type": "code",
      "execution_count": null,
      "metadata": {
        "id": "OgGmska4kYGT"
      },
      "outputs": [],
      "source": [
        "user_genius.columns"
      ]
    },
    {
      "cell_type": "markdown",
      "metadata": {
        "id": "vUc37tkwkZwh"
      },
      "source": [
        "### Criando um novo dataframe de user_genius, contendo as colunas na mesma ordem que job_genius"
      ]
    },
    {
      "cell_type": "code",
      "execution_count": null,
      "metadata": {
        "id": "joTp7ninkaKQ"
      },
      "outputs": [],
      "source": [
        "user_genius_updated = pd.DataFrame()"
      ]
    },
    {
      "cell_type": "code",
      "execution_count": null,
      "metadata": {
        "id": "6c0AVEVokb6A"
      },
      "outputs": [],
      "source": [
        "user_genius_updated['id_user'] = user_genius['user_id']\n",
        "user_genius_updated['key'] = user_genius['key']\n",
        "user_genius_updated['score_res'] = user_genius['superfit_res']\n",
        "user_genius_updated['score_eng'] = user_genius['superfit_eng']\n",
        "user_genius_updated['score_int'] = user_genius['superfit_int']\n",
        "user_genius_updated['score_cur'] = user_genius['superfit_cur']\n",
        "user_genius_updated['score_sin'] = user_genius['superfit_sin']\n",
        "user_genius_updated['score_dis'] = user_genius['superfit_dis']\n"
      ]
    },
    {
      "cell_type": "markdown",
      "metadata": {
        "id": "3ZX52wAtkgWW"
      },
      "source": [
        "## Tratando as colunas e sua organização"
      ]
    },
    {
      "cell_type": "markdown",
      "metadata": {
        "id": "cfNrUvO0wFKM"
      },
      "source": [
        "### Renomeando as colunas, considerando o significado das siglas"
      ]
    },
    {
      "cell_type": "code",
      "execution_count": null,
      "metadata": {
        "id": "tuvzy5DCkegK"
      },
      "outputs": [],
      "source": [
        "user_genius_updated.columns = ['id_user','Key','score_Resiliente','score_Engajado','score_Colaborativo','score_Original','score_Pragmático','score_Consistente']"
      ]
    },
    {
      "cell_type": "markdown",
      "metadata": {
        "id": "zejBNYkjkhMQ"
      },
      "source": [
        "###  Eliminamos as colunas created_at, updated_at e averenge_distance que são irrelevantes"
      ]
    },
    {
      "cell_type": "code",
      "execution_count": null,
      "metadata": {
        "id": "Hjm5sDjXkkc4"
      },
      "outputs": [],
      "source": [
        "job_opp_genius.drop(['created_at','updated_at','average_distance'],axis=1,inplace=True)"
      ]
    },
    {
      "cell_type": "markdown",
      "metadata": {
        "id": "mIDLKImFklxB"
      },
      "source": [
        "### Renomeamos as colunas para a tabela genius de jobs"
      ]
    },
    {
      "cell_type": "code",
      "execution_count": null,
      "metadata": {
        "id": "gvimKoJrkmIg"
      },
      "outputs": [],
      "source": [
        "job_opp_genius.columns = ['id_gestor','job_id','score_Resiliente','score_Engajado','score_Colaborativo','score_Original','score_Pragmático','score_Consistente']"
      ]
    },
    {
      "cell_type": "markdown",
      "metadata": {
        "id": "KF5nSBjekngg"
      },
      "source": [
        "### Eliminamos as colunas irrelevantes da ultima tabela"
      ]
    },
    {
      "cell_type": "code",
      "execution_count": null,
      "metadata": {
        "id": "TjtDIVHJknp7"
      },
      "outputs": [],
      "source": [
        "job_opp_life.drop(['created_at','updated_at','average_distance'],axis=1,inplace=True)"
      ]
    },
    {
      "cell_type": "code",
      "execution_count": null,
      "metadata": {
        "id": "Vxjvg_kCkqqD"
      },
      "outputs": [],
      "source": [
        "user_life.columns =['id_user','Key','score_classic', 'score_order', 'score_change',\n",
        "       'score_tireless', 'score_explorer', 'score_specialist',\n",
        "       'score_generalist','score_hybrid' ]"
      ]
    },
    {
      "cell_type": "markdown",
      "metadata": {
        "id": "i-3lyln1krQM"
      },
      "source": [
        "### utilizando o método describe para encontraros valores maximos de cada coluna e verificar se estão fora do intervalo previsto pelo parceiro"
      ]
    },
    {
      "cell_type": "code",
      "execution_count": null,
      "metadata": {
        "id": "pij7vkYukuc4"
      },
      "outputs": [],
      "source": [
        "job_opp_genius.describe()"
      ]
    },
    {
      "cell_type": "code",
      "execution_count": null,
      "metadata": {
        "id": "l6dTljL-kvdf"
      },
      "outputs": [],
      "source": [
        "user_genius_updated.describe()"
      ]
    },
    {
      "cell_type": "code",
      "execution_count": null,
      "metadata": {
        "id": "13gy6Vu2kvju"
      },
      "outputs": [],
      "source": [
        "user_life.describe()"
      ]
    },
    {
      "cell_type": "code",
      "execution_count": null,
      "metadata": {
        "id": "7dLlWxZvkvp3"
      },
      "outputs": [],
      "source": [
        "job_opp_life.describe()"
      ]
    },
    {
      "cell_type": "markdown",
      "metadata": {
        "id": "oyWtgsw_k2-u"
      },
      "source": [
        "### conferindo quais dados estão fora do intervalo na tabela user_genius"
      ]
    },
    {
      "cell_type": "code",
      "execution_count": null,
      "metadata": {
        "id": "qcsmroxOk521"
      },
      "outputs": [],
      "source": [
        "user_genius_updated.loc[(user_genius_updated['score_Colaborativo'] > 90)|(user_genius_updated['score_Original'] > 90)]#localizando oa indices no dataframe fora do intervalo de 0- 90"
      ]
    },
    {
      "cell_type": "markdown",
      "metadata": {
        "id": "3hn2gKn3k8uh"
      },
      "source": [
        "## substituindo estes valores pela moda"
      ]
    },
    {
      "cell_type": "code",
      "execution_count": null,
      "metadata": {
        "id": "VOVy7mw-k193"
      },
      "outputs": [],
      "source": [
        "user_genius_updated.loc[user_genius_updated['score_Colaborativo'] > 90,'score_Colaborativo'] =user_genius_updated['score_Colaborativo'].median()  #substituindo os valores fora do intervalo pela mediana desta coluna"
      ]
    },
    {
      "cell_type": "code",
      "execution_count": null,
      "metadata": {
        "id": "J_cYK_COk_Gg"
      },
      "outputs": [],
      "source": [
        "user_genius_updated.loc[user_genius_updated['score_Original'] > 90,'score_Original'] =user_genius_updated['score_Original'].median()#substituindo os valores fora do intervalo pela mediana desta coluna"
      ]
    },
    {
      "cell_type": "markdown",
      "metadata": {
        "id": "iUH2MB7nlDAz"
      },
      "source": [
        "## conferindo se nas outras tabelas possuem valores fora do intervalo"
      ]
    },
    {
      "cell_type": "code",
      "execution_count": null,
      "metadata": {
        "id": "AdER4pjjlDno"
      },
      "outputs": [],
      "source": [
        "job_opp_life.loc[(job_opp_life['score_specialist'] > 5) | (job_opp_life['score_generalist'] > 5)]#verificando se existem estes valores inconsistentes para as outras colunas desta tabela"
      ]
    },
    {
      "cell_type": "code",
      "execution_count": null,
      "metadata": {
        "id": "WIr5ObzZlHLj"
      },
      "outputs": [],
      "source": [
        "job_opp_life.loc[(job_opp_life['score_order'] >9)| (job_opp_life['score_change']>9)| (job_opp_life['score_tireless']>9)| (job_opp_life['score_explorer']>9)]#verificando se existem estes valores inconsistentes para as outras colunas desta tabela"
      ]
    },
    {
      "cell_type": "code",
      "execution_count": null,
      "metadata": {
        "id": "Bc3ekzJBlHSl"
      },
      "outputs": [],
      "source": [
        "job_opp_genius.loc[(job_opp_genius['score_Colaborativo'] > 58)|(job_opp_genius['score_Consistente']> 58)|(job_opp_genius['score_Engajado']> 58)|(job_opp_genius['score_Original']> 58)|(job_opp_genius['score_Pragmático']> 58)|(job_opp_genius['score_Resiliente']> 58)]#verificando se existem estes valores inconsistentes para as outras colunas desta tabela"
      ]
    },
    {
      "cell_type": "code",
      "execution_count": null,
      "metadata": {
        "id": "TJpwnXvTlHZi"
      },
      "outputs": [],
      "source": [
        "job_opp_life.loc[(job_opp_life['score_order'] >9)| (job_opp_life['score_change']>9)| (job_opp_life['score_tireless']>9)| (job_opp_life['score_explorer']>9)]#verificando se existem estes valores inconsistentes para as outras colunas desta tabela"
      ]
    },
    {
      "cell_type": "markdown",
      "metadata": {
        "id": "XLnfU7TNlMXL"
      },
      "source": [
        "# Tratando a tabela de interesses dos usuarios"
      ]
    },
    {
      "cell_type": "code",
      "execution_count": null,
      "metadata": {
        "id": "xM1iNaUYl8jB"
      },
      "outputs": [],
      "source": [
        "user_interests.columns=['id_user','name']"
      ]
    },
    {
      "cell_type": "markdown",
      "metadata": {
        "id": "eKCLoGSXDyj0"
      },
      "source": [
        "## Juntando todos os interesses de um mesmo usuario na coluna names no formato de uma lista e eliminhando os usuarios duplicados."
      ]
    },
    {
      "cell_type": "code",
      "execution_count": null,
      "metadata": {
        "id": "YDsKHfRTl_0q"
      },
      "outputs": [],
      "source": [
        "#iterrow que varre o dataset dos interesses dos usuarios e verifica se possuem interesses multiplos para o mesmo user_id(usuario) e junta eles em uma lista.\n",
        "for idx,_ in  user_interests.iterrows():\n",
        "  repetido=[]#lista que armazena os usuarios ja verificados\n",
        "  #verifica se o usuario do loop atual ja foi verificado e transformado\n",
        "  if user_interests['name'].loc[user_interests['id_user']==user_interests['id_user'].at[idx]].values not in repetido:\n",
        "      #usa o método loc para encontrar todos os interesses atrelados ao user_id do loop atual e atribui o valor desta coluna como sendo esta lista de interesses encontrados\n",
        "      user_interests['name'].at[idx] = user_interests['name'].loc[user_interests['id_user']==user_interests['id_user'].at[idx]].values\n",
        "      #armazena o id do usuario tratado na lista para que ele não seja repetido\n",
        "      repetido.append(user_interests['name'].loc[user_interests['id_user']==user_interests['id_user'].at[idx]].values)\n",
        "  else:\n",
        "    user_interests['name'].at[idx] = repetido[0]\n",
        "\n"
      ]
    },
    {
      "cell_type": "code",
      "execution_count": null,
      "metadata": {
        "id": "4tovaJ3Ll_9A"
      },
      "outputs": [],
      "source": [
        "#elimina todos os usuarios duplicados,mantendo somente o primeiro(que possui todos os interesses em uma lista)\n",
        "user_interests.drop_duplicates('id_user',keep='first',inplace=True)"
      ]
    },
    {
      "cell_type": "markdown",
      "metadata": {
        "id": "b82XSqKMn7_W"
      },
      "source": [
        "## Renomeando as colunas de job_opp para facilitar no tratamento"
      ]
    },
    {
      "cell_type": "code",
      "execution_count": null,
      "metadata": {
        "id": "wi2hRCIHmH9k"
      },
      "outputs": [],
      "source": [
        "job_opp_life.rename({'job_opportunity_id':'job_id'},axis=1,inplace=True)#renomeando a coluna de job_id para que as 2 tabelas job_opportunity possuam a coluna com mesmo nome"
      ]
    },
    {
      "cell_type": "code",
      "execution_count": null,
      "metadata": {
        "id": "mpaYK5NTmPLH"
      },
      "outputs": [],
      "source": [
        "job_opp_genius.rename({'job_opportunity_id':'job_id'},axis=1,inplace=True)#renomeando a coluna de job_id para que as 2 tabelas job_opportunity possuam a coluna com mesmo nome"
      ]
    },
    {
      "cell_type": "markdown",
      "metadata": {
        "id": "fCms235NEMGl"
      },
      "source": [
        "## Juntando as tabelas de User_genius e User_lifestyle"
      ]
    },
    {
      "cell_type": "code",
      "execution_count": null,
      "metadata": {
        "id": "ziDho-OxmTvA"
      },
      "outputs": [],
      "source": [
        "user_completo = pd.merge(user_genius_updated,user_life,how='outer',on='id_user')  # juntando as duas tabelas de user, genius(superfit) e lifestyle pela coluna id, pela esquerda."
      ]
    },
    {
      "cell_type": "markdown",
      "metadata": {
        "id": "ysYz7fuaEXdW"
      },
      "source": [
        "atribuindo um valor de -1 para aqueles usuarios que não fizeram algum dos testes."
      ]
    },
    {
      "cell_type": "code",
      "execution_count": null,
      "metadata": {
        "id": "OrdKfm3mmZFC"
      },
      "outputs": [],
      "source": [
        "user_completo.fillna(-1,inplace=True)"
      ]
    },
    {
      "cell_type": "markdown",
      "metadata": {
        "id": "PNfv-cv0EhcU"
      },
      "source": [
        "renomeando a coluna de user_id para realizar o merge"
      ]
    },
    {
      "cell_type": "code",
      "execution_count": null,
      "metadata": {
        "id": "aNOFuy_OmbfH"
      },
      "outputs": [],
      "source": [
        "user_testes.rename({'user_id':'id_user'},axis=1,inplace=True)"
      ]
    },
    {
      "cell_type": "markdown",
      "metadata": {
        "id": "myoPtAGsEoQW"
      },
      "source": [
        "## Juntando as tabelas restantes e atribuindo o valor de -1 para valores numéricos faltantes e 'desconhecido' para as categorias faltantes."
      ]
    },
    {
      "cell_type": "code",
      "execution_count": null,
      "metadata": {
        "id": "gFpt7E3vmdN_"
      },
      "outputs": [],
      "source": [
        "user_completo = pd.merge(user_completo,user_interests,how='outer',on='id_user')  # juntando as duas tabelas de user, genius(superfit) e lifestyle pela coluna id, pela esquerda.\n",
        "user_completo.fillna('desconhecido',inplace=True)\n",
        "user_completo = pd.merge(user_completo,user_testes,how='outer',on='id_user')  # juntando as duas tabelas de user, genius(superfit) e lifestyle pela coluna id, pela esquerda.\n",
        "user_completo.drop(user_completo.loc[user_completo['id_user'].isnull()].index,inplace=True)\n",
        "user_completo['solu_conceito'].fillna('desconhecido',inplace=True)\n",
        "user_completo['excel_conceito'].fillna('desconhecido',inplace=True)\n",
        "user_completo['ingles_conceito'].fillna('desconhecido',inplace=True)\n",
        "user_completo['curso'].fillna('desconhecido',inplace=True)\n",
        "user_completo['cidade_usuario'].fillna('desconhecido',inplace=True)\n",
        "user_completo['travel'].fillna(False,inplace=True)\n",
        "user_completo['location_change'].fillna(False,inplace=True)\n",
        "user_completo.fillna(-1,inplace=True)\n",
        "user_completo.drop(['Key_x','Key_y'],axis=1,inplace=True) #eliminamos a coluna key, por apresentar redundancia"
      ]
    },
    {
      "cell_type": "markdown",
      "metadata": {
        "id": "lEhCouKyn458"
      },
      "source": [
        "## Extraindo a longitude e latitude das cidades dos usuarios utilizando o geopy."
      ]
    },
    {
      "cell_type": "code",
      "execution_count": null,
      "metadata": {
        "id": "R2pn4UbUmgJC"
      },
      "outputs": [],
      "source": [
        "from geopy.geocoders import Nominatim\n",
        "geolocator = Nominatim(user_agent='geopy/2.4.0')\n",
        "\n",
        "import time\n",
        "#com o método unique, pegamos todas as cidades disponiveis no dataset sem repetições, para conswguirmos fazer um for com menos iterações\n",
        "cidades_usuarios = user_completo['cidade_usuario'].unique()\n",
        "coordenadas = {}#dicionario que irá guardar as cidades e suas coordenadas de longitude e latitude\n",
        "#para cada cidade presente no array cidades_usuarios ele encontra a latitude e longitude\n",
        "for i in cidades_usuarios:\n",
        "  #caso for diferente de desconhecida entre no if\n",
        "  if i != 'desconhecido':\n",
        "      time.sleep(1)\n",
        "      loc = geolocator.geocode(i)#encontra as informações geograficas da cidade presente no loop atual da iteração\n",
        "      coordenadas[i]=( loc.longitude,loc.latitude)#atribui a chave do dicionario como sendo o nome da cidade e como valor uma tupla com a longitude no indice 0 e latitude no 1\n",
        "\n",
        "  else:\n",
        "    #caso a cidade seja desconhecida, atribui um valor padrão de 200,200.\n",
        "      coordenadas['desconhecido'] = (200, 200)\n",
        "\n"
      ]
    },
    {
      "cell_type": "markdown",
      "metadata": {
        "id": "jfTyko3OFQl0"
      },
      "source": [
        "## Criando as features de longitude e latitude no dataframe do usuario."
      ]
    },
    {
      "cell_type": "code",
      "execution_count": null,
      "metadata": {
        "id": "3o0kIaJmmjSK"
      },
      "outputs": [],
      "source": [
        "#cria as colunas de longitude e latitude no dataframe dos usuarios\n",
        "user_completo['longitude'] = ''\n",
        "user_completo['latitude']=''\n",
        "#neste iterrow, para cada usuario, ele verifica a cidade dele e atribui a longitude e latitude de acordo com ela\n",
        "for idx, _ in user_completo.iterrows():\n",
        "  coordenada = coordenadas[user_completo['cidade_usuario'].at[idx]]#usa como a chave a cidade do usuario no indice idx da iteração e retorna a tupla de coordenadas\n",
        "  # atribui as coordenadas geograficas às suas respectivas colunas para o usuario no indice idx da iteração\n",
        "  user_completo['longitude'].at[idx] = coordenada[0]\n",
        "  user_completo['latitude'].at[idx] = coordenada[1]"
      ]
    },
    {
      "cell_type": "markdown",
      "metadata": {
        "id": "NAVROay9FbNt"
      },
      "source": [
        "Salvando o dataframe completo para agilizar no treino e teste de modelos"
      ]
    },
    {
      "cell_type": "code",
      "execution_count": null,
      "metadata": {
        "id": "0ZdGYE58mjg4"
      },
      "outputs": [],
      "source": [
        "user_completo.to_csv('user_completo_with_LongLat.csv')"
      ]
    },
    {
      "cell_type": "code",
      "execution_count": null,
      "metadata": {
        "id": "4pxqziI0mj8o"
      },
      "outputs": [],
      "source": [
        "job_completo"
      ]
    },
    {
      "cell_type": "markdown",
      "metadata": {
        "id": "bAWQJZwXFktN"
      },
      "source": [
        "# Juntando as tabelas de genius e workstyle dos gestores."
      ]
    },
    {
      "cell_type": "code",
      "execution_count": null,
      "metadata": {
        "id": "SVLE3mecmsqA"
      },
      "outputs": [],
      "source": [
        "job_completo = pd.merge(job_opp_genius,job_opp_life,how='outer',on='job_id') # juntando as duas tabelas de jobs, genius(superfit) e lifestyle pela coluna job_id\n"
      ]
    },
    {
      "cell_type": "code",
      "execution_count": null,
      "metadata": {
        "id": "5OlfAE8Ems0u"
      },
      "outputs": [],
      "source": [
        "job_completo.columns"
      ]
    },
    {
      "cell_type": "markdown",
      "metadata": {
        "id": "oK8aw5e1n3rb"
      },
      "source": [
        "## Juntando a tabela anterior com a job_details, contendo as informações de cada vaga.\n"
      ]
    },
    {
      "cell_type": "code",
      "execution_count": null,
      "metadata": {
        "id": "LjoZQ5PBms-5"
      },
      "outputs": [],
      "source": [
        "job_completo.drop(['id_gestor','id'],axis=1,inplace=True)# removemos estas colunas, pois não fazem sentido para o nosso objetivo de recomendação\n",
        "job_completo.fillna(-1,inplace=True)\n",
        "job_opp_datails.rename({'job_opportunity_id':'job_id'},axis=1,inplace=True)\n",
        "job_completo = pd.merge(job_completo,job_opp_datails,how='outer',on='job_id') # juntando as duas tabelas de jobs, genius(superfit) e lifestyle pela coluna job_id, pela esquerda."
      ]
    },
    {
      "cell_type": "markdown",
      "metadata": {
        "id": "6icXL9AVH6DD"
      },
      "source": [
        "## Extraindo as cidades de cada vaga a partir do texto ca coluna de descrição da vaga utilizando a biblioteca geotext."
      ]
    },
    {
      "cell_type": "code",
      "execution_count": null,
      "metadata": {
        "id": "aaiaaOCyHwTL"
      },
      "outputs": [],
      "source": [
        "from geotext import GeoText\n",
        "import time\n",
        "#função que extrai da string de descrição do trabalho a localização geografica dele\n",
        "def extrai_cidade(x):\n",
        "  places = GeoText(x)\n",
        "  cities = places.cities\n",
        "  if len(cities)>1:#(Excessão) Para são josé dos campos a biblioteca captura somente a string \"São José\" e 'campos' separadamente\n",
        "    return 'São José dos Campos'\n",
        "  if len(cities)>0:\n",
        "    return cities[0]\n",
        "  else:#caso não retorne nehuma cidade atribui o valor como desconhecido\n",
        "    return 'desconhecido'\n",
        "\n",
        "#utiliza o método apply para extrair a feature em cada indice do dataset\n",
        "job_completo['cidade'] = job_completo['descricao_vaga_area'].apply(extrai_cidade)\n"
      ]
    },
    {
      "cell_type": "markdown",
      "metadata": {
        "id": "qPBWtF27IGWQ"
      },
      "source": [
        "## Extraindo a longitude e latitude para cada cidade extraida do processo anterior."
      ]
    },
    {
      "cell_type": "code",
      "execution_count": null,
      "metadata": {
        "id": "8UVdqXQYHwpA"
      },
      "outputs": [],
      "source": [
        "from geopy.geocoders import Nominatim\n",
        "geolocator = Nominatim(user_agent='geopy/2.4.0')\n",
        "#cria as colunas de longitude e latitude no dataframe de jobs\n",
        "job_completo['latitude'] = ''\n",
        "job_completo['longitude'] = ''\n",
        "#iterrow que extrai a longitude e latitude de cada vaga pegando a feature cidade que foi extraida e usando o geopy retorna as informações geograficas da cidade analisada\n",
        "for idx,_ in job_completo.iterrows():\n",
        "  if job_completo['cidade'].at[idx] != 'desconhecido':\n",
        "    time.sleep(1)\n",
        "    long = geolocator.geocode(job_completo['cidade'].at[idx]).longitude\n",
        "    lat = geolocator.geocode(job_completo['cidade'].at[idx]).latitude\n",
        "    job_completo['longitude'].at[idx] = long\n",
        "    job_completo['latitude'].at[idx] = lat\n",
        "\n",
        "  else:\n",
        "    job_completo['latitude'].at[idx] = 200\n",
        "    job_completo['longitude'].at[idx] = 200"
      ]
    },
    {
      "cell_type": "markdown",
      "metadata": {
        "id": "PziwG8K_IRgm"
      },
      "source": [
        "## Extraindo a area da vaga se baseando na coluna de descrição."
      ]
    },
    {
      "cell_type": "code",
      "execution_count": null,
      "metadata": {
        "id": "JFKbTkQWm-z6"
      },
      "outputs": [],
      "source": [
        "#dicionario contendo as areas principais e suas respectivas palavras chaves\n",
        "areas = {'Engenharia':[\"Engenharia\", \"Eletrônica\", \"Produto\", \"Desenvolvimento\", \"Colheitadeiras\", \"Mecanização\", \"Processos\", \"Melhoria Contínua\"],'RH':[\"Recursos Humanos\", \"RH\",'DHO','Compliance'],'Administrativo':[ \"Secretariado\", \"Administrativo\"], 'Marketing / Comunicação':[ \"Marketing\", \"Comunicação\"],\n",
        "       'Produção / Operações':[\"Produção\", \"Mecanização\", \"Processos\", \"Melhoria Contínua\", \"Qualidade\", \"Manufatura\", \"Operações\"], 'Logistica / Supply Chain':[\"Logística\",'COMEX','Comex', \"Transporte\", \"Comércio Exterior\", \"Compras\", \"Planejamento\", \"Supply Chain\"],\n",
        "       'Comercial / Vendas':[\"Comercial\", \"Vendas\", \"Atendimento\", \"Sales\", \"Comércio\", \"Segmento Construção\"], 'Tecnologia':[\"Tecnologia\", \"Sistemas\", \"Desenvolvimento\", \"Análise\",\"TI\",\"Ti\",'IT,,'], 'Finanças / Contabilidade':['FP&A',\"Atuária\", \"Auditoria\", \"Contabilidade\", \"Pricing\", \"Impostos\", \"Controladoria\", \"Finanças\", \"Tesouraria\", \"M&A\", \"Auditoria Interna\"],\n",
        "       'Jurídico':[\"Direito\", \"Jurídico\"], 'Saúde':[\"Enfermagem\"]}\n",
        "#cria a coluna de area da vaga no dataframe de jobs\n",
        "job_completo['area_vaga'] = ''\n",
        "# iterrow que varre o dataframe e verifica qual palavra chave esta presente na descrição da vaga para atribui-la a uma destas areas principais\n",
        "for idx,_ in job_completo.iterrows():\n",
        "  #as areas são desconhecidas a priori\n",
        "  desconhecida = True\n",
        "  # loop queira varrer todos os items do dicionario\n",
        "  for area in areas.items():\n",
        "    #loop que irá percorrer todas as valavras chaves do item do loop anterior\n",
        "    for word in area[1]:\n",
        "      #condicional que verifica se a palavra chave esta na descrição\n",
        "      if word in job_completo['descricao_vaga_area'].at[idx]:\n",
        "        #caso esteja, atribui a area principal à coluna area\n",
        "        job_completo['area_vaga'].at[idx]=area[0]\n",
        "        #defini a flag desconhecida como false, pois a vaga ja foi identificada\n",
        "        desconhecida = False\n",
        "    #caso a descrição não possua nenhuma palavra chave presente no dicionario define o valor da instancia como desconhecido\n",
        "    if desconhecida:\n",
        "        job_completo['area_vaga'].at[idx]='desconhecido'\n",
        "\n",
        "\n",
        "\n"
      ]
    },
    {
      "cell_type": "markdown",
      "metadata": {
        "id": "qWdxeT7ZIcc3"
      },
      "source": [
        "Salvando o csv já tratado para agilizar o processo de treino."
      ]
    },
    {
      "cell_type": "code",
      "execution_count": null,
      "metadata": {
        "id": "6eqXputWnBHz"
      },
      "outputs": [],
      "source": [
        "job_completo.to_csv('job_completo_with_LongLat_and_Intetests_correct.csv')"
      ]
    },
    {
      "cell_type": "markdown",
      "metadata": {
        "id": "Fo1xWk0mn-97"
      },
      "source": [
        "## Verificando valores nulos das tabelas anexadas\n",
        "\n",
        "\n",
        "\n"
      ]
    },
    {
      "cell_type": "markdown",
      "metadata": {
        "id": "m22h4DSjI8IV"
      },
      "source": [
        "### OBS: Caso tenha carregado os dataframes completos de jobs e user, execute os códigos a partir daqui."
      ]
    },
    {
      "cell_type": "code",
      "execution_count": 5,
      "metadata": {
        "id": "Fq1lt7iUnFVn"
      },
      "outputs": [],
      "source": [
        "user_nulos = user_completo.loc[user_completo['score_generalist'].isnull()].index #verificamos os dados nulos após o merge(instancias que possuem registro na tabela genius e não na lifestyle) e coletamos os indices\n",
        "user_completo.drop(user_nulos,inplace=True)#removemos estas instancias com dados nulos\n",
        "user_completo.isnull().sum()#verificamos se foram removidas\n",
        "jobs_nulos = job_completo.loc[job_completo['score_explorer'].isnull()].index #verificamos as instancias nulas para os jobs, e coletamos os seus indices\n",
        "job_completo.drop(jobs_nulos,inplace=True) #realizamos a exclusão destas instancias nulas\n"
      ]
    },
    {
      "cell_type": "markdown",
      "metadata": {
        "id": "E6mkE2cqIx84"
      },
      "source": [
        "## Tratando a coluna de score hibrido na tabela User_completo."
      ]
    },
    {
      "cell_type": "code",
      "execution_count": 6,
      "metadata": {
        "id": "AMj5Bm0gIxNT"
      },
      "outputs": [],
      "source": [
        "# tratamos a coluna score hibrido da tabela user, devido aos jobs não a possuir, pela regra do parceiro, elas correspondem a pontuações onde o usuario tem pontuação equivalente em genaralista e especialista\n",
        "#sendo 3 hibrido teremos 3 de especialista e 3 de generalista\n",
        "#é executado um iterrows para realizar esta alteração para cada indice caso possua valor diferente de 0\n",
        "for idx,_ in user_completo.iterrows():\n",
        "  if user_completo['score_hybrid'].at[idx] > 0:\n",
        "    user_completo['score_specialist'].at[idx] = user_completo['score_hybrid'].at[idx]\n",
        "    user_completo['score_generalist'].at[idx] = user_completo['score_hybrid'].at[idx]\n",
        "user_completo.drop('score_hybrid',axis=1,inplace=True) #após o tratamento esta coluna de user pode ser excluida"
      ]
    },
    {
      "cell_type": "code",
      "execution_count": null,
      "metadata": {
        "id": "bGP9VVQZnHdK"
      },
      "outputs": [],
      "source": [
        "user_completo.columns"
      ]
    },
    {
      "cell_type": "code",
      "execution_count": null,
      "metadata": {
        "id": "zS6LD63WnH1_"
      },
      "outputs": [],
      "source": [
        "job_completo.columns"
      ]
    },
    {
      "cell_type": "markdown",
      "metadata": {
        "id": "XGKTMFjdoBJo"
      },
      "source": [
        "## Realizando o scaling das features numéricas de ambas as tabelas(desconsiderando longitude e latitude, pois será utilizada como meio de filtragem)"
      ]
    },
    {
      "cell_type": "code",
      "execution_count": 7,
      "metadata": {
        "id": "oaqfIozBnJ6m"
      },
      "outputs": [],
      "source": [
        "from sklearn.preprocessing import StandardScaler\n",
        "#realizando o scaling nos scores\n",
        "standard_scaler = StandardScaler()\n",
        "user_completo.iloc[:,1:14] =  standard_scaler.fit_transform(user_completo.iloc[:,1:14])\n",
        "job_completo.iloc[:,1:14] =  standard_scaler.fit_transform(job_completo.iloc[:,1:14])\n",
        "\n",
        "\n"
      ]
    },
    {
      "cell_type": "markdown",
      "metadata": {
        "id": "0EY2ngJJJRuk"
      },
      "source": [
        "## Criando novas features para gestores e usuarios,sendo elas as médias de cada teste(uma dos scores de genius e outra dos scores de lifestyle) e uma média ponderada geral, dando um peso maior a média de genius."
      ]
    },
    {
      "cell_type": "code",
      "execution_count": 8,
      "metadata": {
        "id": "mgP4KTrrJRG2"
      },
      "outputs": [],
      "source": [
        "#criamos 3 novas features, sendo elas as médias de cada teste e uma média ponderada dando maior peso as caracteristicas do teste genius\n",
        "job_completo['mean_geniues']=job_completo.iloc[:,1:7].mean(axis=1)\n",
        "job_completo['mean_life']=job_completo.iloc[:,6:14].mean(axis=1)\n",
        "job_completo['media_geral'] = job_completo['mean_geniues'] + 0.5*job_completo['mean_life']\n",
        "#criamos 3 novas features, sendo elas as médias de cada teste e uma média ponderada dando maior peso as caracteristicas do teste genius\n",
        "\n",
        "user_completo['mean_geniues']=user_completo.iloc[:,1:7].mean(axis=1)\n",
        "user_completo['mean_life']=user_completo.iloc[:,7:14].mean(axis=1)\n",
        "user_completo['media_geral'] = user_completo['mean_geniues'] + 0.5*user_completo['mean_life']"
      ]
    },
    {
      "cell_type": "markdown",
      "metadata": {
        "id": "y6C5HxRTJX4v"
      },
      "source": [
        "## Renomeando as colunas de id de cada dataframe e criando flags de identificação de cada instancia(usuario ou gestoer) para juntarmos as duas tabelas num unico dataframe."
      ]
    },
    {
      "cell_type": "code",
      "execution_count": 9,
      "metadata": {
        "id": "c2LpqRUoJW76"
      },
      "outputs": [],
      "source": [
        "#com o objetivo de juntar os 2 dataframes para realizar o agrupamento, criamos flags para identificar usuarios e jobs\n",
        "user_completo.rename({'name':'user_interesses'},axis=1,inplace=True)\n",
        "job_completo.rename({'name':'tipo_de_vaga'},axis=1,inplace=True)\n",
        "#renomeamos a coluna de job_id para corresponder ao mesmo nome da tabela user\n",
        "job_completo.rename({'job_id':'id'},axis=1,inplace=True)\n",
        "#renomeamos para que esta tabela corresponda a job\n",
        "user_completo.rename({'id_user':'id'},axis=1,inplace=True)\n",
        "user_completo['type_instance'] = 'User'\n",
        "job_completo['type_instance'] = 'Job_opp'"
      ]
    },
    {
      "cell_type": "markdown",
      "metadata": {
        "id": "XWQOes35Ja2K"
      },
      "source": [
        "## Junção das tabelas num unico dataframe."
      ]
    },
    {
      "cell_type": "code",
      "execution_count": 10,
      "metadata": {
        "id": "hEDm4J3oJbEW"
      },
      "outputs": [],
      "source": [
        "\n",
        "#concatenamos as 2 tabela\n",
        "data_full = pd.concat([user_completo,job_completo],axis=0)"
      ]
    },
    {
      "cell_type": "code",
      "execution_count": null,
      "metadata": {
        "id": "aSe7KfL0nQcf"
      },
      "outputs": [],
      "source": [
        "data_full.columns"
      ]
    },
    {
      "cell_type": "markdown",
      "metadata": {
        "id": "WcMIYi_PKn3d"
      },
      "source": [
        "## Eliminando features do dataframe completo que não serão utilizadas"
      ]
    },
    {
      "cell_type": "code",
      "execution_count": 11,
      "metadata": {
        "id": "_4j4yQaLnR0B"
      },
      "outputs": [],
      "source": [
        "data_full.drop(['curso_inicio','curso_fim'],axis=1,inplace=True)"
      ]
    },
    {
      "cell_type": "code",
      "execution_count": 12,
      "metadata": {
        "id": "U2QKfzRbnTZR"
      },
      "outputs": [],
      "source": [
        "data_full.rename({'name':'user_interesses'},axis=1,inplace=True)"
      ]
    },
    {
      "cell_type": "markdown",
      "metadata": {
        "id": "KDqjivIomUMo"
      },
      "source": [
        "# **Modelagem**"
      ]
    },
    {
      "cell_type": "markdown",
      "metadata": {
        "id": "u9Gxd40lpVnq"
      },
      "source": [
        "## Separação das features que serão utilizadas no agrupamento"
      ]
    },
    {
      "cell_type": "code",
      "execution_count": 14,
      "metadata": {
        "id": "hB3laiqqpNAz"
      },
      "outputs": [],
      "source": [
        "#selação das features para agrupamento\n",
        "X_all = data_full[['score_Resiliente', 'score_Engajado', 'score_Colaborativo',\n",
        "       'score_Original', 'score_Pragmático', 'score_Consistente',\n",
        "       'score_classic', 'score_order', 'score_change', 'score_tireless',\n",
        "       'score_explorer', 'score_specialist', 'score_generalist','mean_geniues',\t'mean_life'\t,'media_geral', 'latitude', 'longitude']].values"
      ]
    },
    {
      "cell_type": "markdown",
      "metadata": {
        "id": "Ypc6dTlToDGC"
      },
      "source": [
        "**Agrupamento**"
      ]
    },
    {
      "cell_type": "code",
      "execution_count": 13,
      "metadata": {
        "id": "Vf9l0963462c"
      },
      "outputs": [],
      "source": [
        "from sklearn.cluster import AgglomerativeClustering, DBSCAN, MiniBatchKMeans\n",
        "from sklearn.metrics import silhouette_score"
      ]
    },
    {
      "cell_type": "markdown",
      "metadata": {
        "id": "DZBgMJhc2GzS"
      },
      "source": [
        "### **Avaliação do melhor k**"
      ]
    },
    {
      "cell_type": "markdown",
      "metadata": {
        "id": "8JD-Xnn9-zPd"
      },
      "source": [
        "Analise do numero de k ideal para o k-means, utilizando a análise de silhueta:"
      ]
    },
    {
      "cell_type": "code",
      "execution_count": 18,
      "metadata": {
        "colab": {
          "base_uri": "https://localhost:8080/"
        },
        "id": "EIWYOCSm2M8W",
        "outputId": "9771f88b-7951-4038-e3c0-001837152021"
      },
      "outputs": [
        {
          "name": "stderr",
          "output_type": "stream",
          "text": [
            "/usr/local/lib/python3.10/dist-packages/sklearn/cluster/_kmeans.py:870: FutureWarning: The default value of `n_init` will change from 3 to 'auto' in 1.4. Set the value of `n_init` explicitly to suppress the warning\n",
            "  warnings.warn(\n",
            "/usr/local/lib/python3.10/dist-packages/sklearn/cluster/_kmeans.py:870: FutureWarning: The default value of `n_init` will change from 3 to 'auto' in 1.4. Set the value of `n_init` explicitly to suppress the warning\n",
            "  warnings.warn(\n",
            "/usr/local/lib/python3.10/dist-packages/sklearn/cluster/_kmeans.py:870: FutureWarning: The default value of `n_init` will change from 3 to 'auto' in 1.4. Set the value of `n_init` explicitly to suppress the warning\n",
            "  warnings.warn(\n",
            "/usr/local/lib/python3.10/dist-packages/sklearn/cluster/_kmeans.py:870: FutureWarning: The default value of `n_init` will change from 3 to 'auto' in 1.4. Set the value of `n_init` explicitly to suppress the warning\n",
            "  warnings.warn(\n",
            "/usr/local/lib/python3.10/dist-packages/sklearn/cluster/_kmeans.py:870: FutureWarning: The default value of `n_init` will change from 3 to 'auto' in 1.4. Set the value of `n_init` explicitly to suppress the warning\n",
            "  warnings.warn(\n",
            "/usr/local/lib/python3.10/dist-packages/sklearn/cluster/_kmeans.py:870: FutureWarning: The default value of `n_init` will change from 3 to 'auto' in 1.4. Set the value of `n_init` explicitly to suppress the warning\n",
            "  warnings.warn(\n",
            "/usr/local/lib/python3.10/dist-packages/sklearn/cluster/_kmeans.py:870: FutureWarning: The default value of `n_init` will change from 3 to 'auto' in 1.4. Set the value of `n_init` explicitly to suppress the warning\n",
            "  warnings.warn(\n",
            "/usr/local/lib/python3.10/dist-packages/sklearn/cluster/_kmeans.py:870: FutureWarning: The default value of `n_init` will change from 3 to 'auto' in 1.4. Set the value of `n_init` explicitly to suppress the warning\n",
            "  warnings.warn(\n",
            "/usr/local/lib/python3.10/dist-packages/sklearn/cluster/_kmeans.py:870: FutureWarning: The default value of `n_init` will change from 3 to 'auto' in 1.4. Set the value of `n_init` explicitly to suppress the warning\n",
            "  warnings.warn(\n",
            "/usr/local/lib/python3.10/dist-packages/sklearn/cluster/_kmeans.py:870: FutureWarning: The default value of `n_init` will change from 3 to 'auto' in 1.4. Set the value of `n_init` explicitly to suppress the warning\n",
            "  warnings.warn(\n",
            "/usr/local/lib/python3.10/dist-packages/sklearn/cluster/_kmeans.py:870: FutureWarning: The default value of `n_init` will change from 3 to 'auto' in 1.4. Set the value of `n_init` explicitly to suppress the warning\n",
            "  warnings.warn(\n",
            "/usr/local/lib/python3.10/dist-packages/sklearn/cluster/_kmeans.py:870: FutureWarning: The default value of `n_init` will change from 3 to 'auto' in 1.4. Set the value of `n_init` explicitly to suppress the warning\n",
            "  warnings.warn(\n",
            "/usr/local/lib/python3.10/dist-packages/sklearn/cluster/_kmeans.py:870: FutureWarning: The default value of `n_init` will change from 3 to 'auto' in 1.4. Set the value of `n_init` explicitly to suppress the warning\n",
            "  warnings.warn(\n"
          ]
        }
      ],
      "source": [
        "silhoette = {}#dicionario que conterá os silhouette coefficients\n",
        "k_numbers = np.arange(2,15) #arrai de 2 a 9 para teste do k ideal\n",
        "#loop que testará cada valor de k e seu respectivo coeficiente de silhoueta\n",
        "for k in k_numbers:\n",
        "  kmeans = MiniBatchKMeans(n_clusters=k)#Kmeans com o k do loop\n",
        "  labels = kmeans.fit_predict(X_all) #treinamento do kmeans e predição de label\n",
        "  s_c = silhouette_score(X_all,labels)#coeficiente de silhoueta para o k analisado\n",
        "  silhoette[k] = s_c\n"
      ]
    },
    {
      "cell_type": "markdown",
      "metadata": {
        "id": "I-2W3lb6NDqZ"
      },
      "source": [
        "Plot do coeficiente de silhoueta para cada numero de k:"
      ]
    },
    {
      "cell_type": "code",
      "execution_count": 19,
      "metadata": {
        "colab": {
          "base_uri": "https://localhost:8080/",
          "height": 564
        },
        "id": "0zkHADzW-QbO",
        "outputId": "178face0-c6e1-43f8-8530-dfacf9ea4bb6"
      },
      "outputs": [
        {
          "data": {
            "image/png": "[encoded data removed]",
            "text/plain": [
              "<Figure size 800x600 with 1 Axes>"
            ]
          },
          "metadata": {},
          "output_type": "display_data"
        }
      ],
      "source": [
        "plt.figure(figsize=(8, 6))\n",
        "plt.title('Silhouette Analysis')\n",
        "plt.plot(k_numbers,silhoette.values())\n",
        "plt.xlabel('number of k')\n",
        "plt.ylabel('Silhouette coefficient')\n",
        "plt.show()"
      ]
    },
    {
      "cell_type": "markdown",
      "metadata": {
        "id": "BnBK7uGge_Kh"
      },
      "source": [
        "Analisando o gráfico, percebemos que o melhor k, segundo a análise de silhueta, é o 2. Isso porque, para k=2, o coeficiente de silhueta é maior que os demais, o que indica que os dados possuem uma separação mais coesa entre si para 2 grupos.\n",
        "A equação do coeficiente de silhueta é a seguinte:"
      ]
    },
    {
      "cell_type": "markdown",
      "metadata": {
        "id": "QSXMzjMWfmO-"
      },
      "source": [
        "$$\n",
        "\\text{Silhouette Score} = \\frac{1}{N} \\sum_{i=1}^{N} \\frac{b(i) - a(i)}{\\max\\{a(i), b(i)\\}}\n",
        "$$\n"
      ]
    },
    {
      "cell_type": "markdown",
      "metadata": {
        "id": "2vDNPFgMgPpV"
      },
      "source": [
        "* b(i) representa a menor distância média das amostras de clusters diferentes à\n",
        "amostra i. Isso mede a separação entre o cluster ao qual a amostra i pertence e o cluster mais próximo ao qual i não pertence.\n",
        "* a(i) representa a distância média das amostras do mesmo cluster que a amostra i. Isso mede a coesão do cluster, ou seja, o quão próximas as amostras estão umas das outras dentro do mesmo cluster.\n",
        "* max(a(i), b(i)): Este termo calcula o máximo entre a(i) e b(i). Isso é usado para evitar a divisão por zero, garantindo que o denominador nunca seja igual a zero.\n",
        "\n",
        "\n",
        "\n",
        "\n",
        "\n"
      ]
    },
    {
      "cell_type": "markdown",
      "metadata": {
        "id": "y9A7WkLr1zi6"
      },
      "source": [
        "Execução do agrupamento própriamente dito com o melhor numero de K"
      ]
    },
    {
      "cell_type": "code",
      "execution_count": 20,
      "metadata": {
        "colab": {
          "base_uri": "https://localhost:8080/"
        },
        "id": "tJDQCJlwoTCB",
        "outputId": "54af4e88-a998-4032-ca8e-9ee3fc4ddbd8"
      },
      "outputs": [
        {
          "name": "stderr",
          "output_type": "stream",
          "text": [
            "/usr/local/lib/python3.10/dist-packages/sklearn/cluster/_kmeans.py:870: FutureWarning: The default value of `n_init` will change from 3 to 'auto' in 1.4. Set the value of `n_init` explicitly to suppress the warning\n",
            "  warnings.warn(\n"
          ]
        }
      ],
      "source": [
        "from sklearn.cluster import AgglomerativeClustering, DBSCAN, MiniBatchKMeans\n",
        "kmeans_all = MiniBatchKMeans(n_clusters=2)\n",
        "#treinamos o k-means e agrupamos os dados\n",
        "kmeans_all_pred = kmeans_all.fit_predict(X_all)"
      ]
    },
    {
      "cell_type": "markdown",
      "metadata": {
        "id": "EFqdbUya14kw"
      },
      "source": [
        "## Criação da feature grupo, que diz respeito a qual grupo cada instância faz parte."
      ]
    },
    {
      "cell_type": "code",
      "execution_count": 21,
      "metadata": {
        "id": "X3p0pNBjpTdZ"
      },
      "outputs": [],
      "source": [
        "data_full['grupo'] = kmeans_all_pred"
      ]
    },
    {
      "cell_type": "markdown",
      "metadata": {
        "id": "QlvB3V2kpX9a"
      },
      "source": [
        "## Separação das variáveis dependentes para o treino dos modelos"
      ]
    },
    {
      "cell_type": "markdown",
      "metadata": {
        "id": "sd3RNUo42Y5Q"
      },
      "source": [
        "Separação das features dos users para efeturamos a recomendação"
      ]
    },
    {
      "cell_type": "code",
      "execution_count": 22,
      "metadata": {
        "id": "jGU5scqepYRB"
      },
      "outputs": [],
      "source": [
        "#seleção do X para o usuario, contendo as features utilizadas no modelo, utilizamos o método loc para encontrar todas as instancias que possuem a flag 'User'\n",
        "X_user_with_lat_long = data_full.loc[data_full['type_instance']=='User'][['score_Resiliente', 'score_Engajado', 'score_Colaborativo',\n",
        "       'score_Original', 'score_Pragmático', 'score_Consistente',\n",
        "       'score_classic', 'score_order', 'score_change', 'score_tireless',\n",
        "       'score_explorer', 'score_specialist', 'score_generalist','mean_geniues',\t'mean_life'\t,'media_geral', 'latitude', 'longitude','grupo']].values"
      ]
    },
    {
      "cell_type": "markdown",
      "metadata": {
        "id": "hybisZsF2jPI"
      },
      "source": [
        "Separação das features dos jobs para o treinamento dos modelos"
      ]
    },
    {
      "cell_type": "code",
      "execution_count": null,
      "metadata": {
        "id": "PZK_VYPToErO"
      },
      "outputs": [],
      "source": [
        "#seleção do X para o gestor, contendo as features utilizadas no modelo, utilizamos o método loc para encontrar todas as instancias que possuem a flag 'Job_opp'\n",
        "\n",
        "X_jobs_with_LatLong = data_full.loc[data_full['type_instance']=='Job_opp'][['score_Resiliente', 'score_Engajado', 'score_Colaborativo',\n",
        "       'score_Original', 'score_Pragmático', 'score_Consistente',\n",
        "       'score_classic', 'score_order', 'score_change', 'score_tireless',\n",
        "       'score_explorer', 'score_specialist', 'score_generalist','mean_geniues',\t'mean_life'\t,'media_geral', 'latitude', 'longitude','grupo']].values"
      ]
    },
    {
      "cell_type": "markdown",
      "metadata": {
        "id": "1WS1xE7c2q6_"
      },
      "source": [
        "Separação da classe(job_id) para treino dos modelos."
      ]
    },
    {
      "cell_type": "code",
      "execution_count": null,
      "metadata": {
        "id": "UC3OS9GRpcZw"
      },
      "outputs": [],
      "source": [
        "#seleção da \"classe\", neste caso estamos adotando o job_id como a classe a ser predita, ou no nosso caso recomendada\n",
        "Y_jobs = data_full.loc[data_full['type_instance']=='Job_opp']['id'].values"
      ]
    },
    {
      "cell_type": "markdown",
      "metadata": {
        "id": "ZicHqpnjpguo"
      },
      "source": [
        "KNN + K-means"
      ]
    },
    {
      "cell_type": "markdown",
      "metadata": {},
      "source": [
        "A função do K-means nesse modelo é através dos dados disponibilizados, fazer uma clusterização entre os gestores e usuários da plataforma, ou seja, separar em grupos por meio da similaridade de cada usuário. Já o KNN terá como objetivo achar as empresas mais próximas ao usuário, ou melhor, através dos pontos no gráfico de classificação o modelo irá dizer quais os perfis com maiores similaridades baseado na distância entre eles, sendo o quanto mais próximo mais similar."
      ]
    },
    {
      "cell_type": "code",
      "execution_count": 43,
      "metadata": {
        "id": "NMYP8y4Tpf4Y"
      },
      "outputs": [],
      "source": [
        "from sklearn.neighbors import NearestNeighbors"
      ]
    },
    {
      "cell_type": "code",
      "execution_count": 44,
      "metadata": {
        "id": "sTREuET1pmJR"
      },
      "outputs": [],
      "source": [
        "#definimos uma função de recomendação que recebe a métrica de similaridade, quantidade de recomendações esperadas e usuario para comparar e recomendar as melhores\n",
        "def recomendar(user,n_recomend=10,metric='cosine',min_similarity=0):\n",
        "  #seleciona o X_job filtrando pela longitude e latitude do usuario, selecionando apenas os jobs que possuam a mesma latitute e longitude do usuario\n",
        "  X_jobs_with_LatLong = data_full.loc[(data_full['type_instance']=='Job_opp')&(data_full['latitude']==user[-3])&(data_full['longitude']==user[-2])][['score_Resiliente', 'score_Engajado', 'score_Colaborativo',\n",
        "       'score_Original', 'score_Pragmático', 'score_Consistente',\n",
        "       'score_classic', 'score_order', 'score_change', 'score_tireless',\n",
        "       'score_explorer', 'score_specialist', 'score_generalist','mean_geniues',\t'mean_life'\t,'media_geral', 'latitude', 'longitude','grupo']].values\n",
        "  #seleciona os job_ids utilizando o mesmo filtro que para o x\n",
        "  Y_jobs = data_full.loc[(data_full['type_instance']=='Job_opp')&(data_full['latitude']==user[-3])&(data_full['longitude']==user[-2])]['id'].values\n",
        "  knn = NearestNeighbors(n_neighbors=n_recomend,metric=metric)#instancia o KNN\n",
        "  knn.fit(X_jobs_with_LatLong,Y_jobs)#treina ele com os dados de jobs\n",
        "  recomends = knn.kneighbors(user.reshape(1,-1),n_neighbors=n_recomend)#encontra os vizinhos mais preóximos do user instanciado(n vizinhos)\n",
        "  semelhancas =1 - recomends[0] #devido à metrica usada ser a distancia do cosseno, uma medida de dissimilaridade, o parametro complementar é a similaridade do cosseno, portanto 1 - dis\n",
        "  ids = Y_jobs[recomends[1]] #encontra os respectivos job_ids para cada indice no array de jobs(classe)\n",
        "  differences = user - X_jobs_with_LatLong[recomends[1]] # encontra a diferença entre os scores dos usuarios com os jobs recomendados\n",
        "  df_recomenda= np.concatenate((ids.reshape(-1,1),semelhancas.reshape(-1,1),abs(differences[0][:,-6:])),axis=1) # concatenas as arrays de ids(recomendação),semelhança(métrica de similaridade) e diferenças(métrica de reforço)\n",
        "  df=pd.DataFrame(df_recomenda,columns=['job_id','semelhança','dif_média_genius', 'dif_média_life','dif_média_geral','lat_dif','long_dif','grupo'])#cria um dataframe com as recomendaçõs e suas métricas\n",
        "  return df #retorna o dataframe com as recomendações"
      ]
    },
    {
      "cell_type": "markdown",
      "metadata": {
        "id": "WisnHclHprYa"
      },
      "source": [
        "Random Forest + k-means"
      ]
    },
    {
      "cell_type": "markdown",
      "metadata": {},
      "source": [
        "A função do K-means segue a mesma do modelo citado anteriormente. Já o modelo Random Forest tem como sua funcionalidade várias árvores de decisões aleatórias, que a cada decisão ela divide o conjunto de dados em segmentos menores com base em regras aleatórias até chegar em uma vaga com a menor impureza. No final, o modelo junta esses resultados e entrega a melhor combinação."
      ]
    },
    {
      "cell_type": "code",
      "execution_count": 23,
      "metadata": {
        "id": "EChAoWRepp4N"
      },
      "outputs": [],
      "source": [
        "from sklearn.ensemble import RandomForestClassifier"
      ]
    },
    {
      "cell_type": "code",
      "execution_count": 47,
      "metadata": {
        "id": "2vsevghzpwbb"
      },
      "outputs": [],
      "source": [
        "#definimos uma função de recomendação que recebe o usuario a receber uma recomendação, o número de recomendações  e o numero de estimadores para o Random Forest\n",
        "def recomendar_rf(user,n,n_estim=50):\n",
        "    #seleciona o X_job filtrando pela longitude e latitude do usuario, selecionando apenas os jobs que possuam a mesma latitute e longitude do usuario\n",
        "  X_jobs_with_LatLong = data_full.loc[(data_full['type_instance']=='Job_opp')&(data_full['latitude']==user[-3])&(data_full['longitude']==user[-2])][['score_Resiliente', 'score_Engajado', 'score_Colaborativo',\n",
        "       'score_Original', 'score_Pragmático', 'score_Consistente',\n",
        "       'score_classic', 'score_order', 'score_change', 'score_tireless',\n",
        "       'score_explorer', 'score_specialist', 'score_generalist','mean_geniues',\t'mean_life'\t,'media_geral', 'latitude', 'longitude','grupo']].values\n",
        "  #seleciona os job_ids utilizando o mesmo filtro que para o x\n",
        "  Y_jobs = data_full.loc[(data_full['type_instance']=='Job_opp')&(data_full['latitude']==user[-3])&(data_full['longitude']==user[-2])]['id'].values\n",
        "  rf_model = RandomForestClassifier(n_estimators=n_estim, random_state=42)#instancia a Random Forest com o numero de estimadores n_estim\n",
        "  rf_model.fit(X_jobs_with_LatLong, Y_jobs)#treina o modelo com o X filtrado e Y filtrado\n",
        "  y_pred_test = rf_model.predict_proba(user.reshape(1, -1)) #realiza a predição da probabilidade de cada classe para o user testado\n",
        "  data = pd.DataFrame(y_pred_test.reshape(-1,1),columns =['probabilidade'])#cria um dataframe contendo as probabilidades\n",
        "  jobs = Y_jobs[data.sort_values('probabilidade',ascending=False).index[:n]]#encontra os job_ids correspondentes às probabilidades\n",
        "  x_jobs = X_jobs_with_LatLong[data.sort_values('probabilidade').index[:n]]#encontra os scores médios dos gestores para comparação\n",
        "  differences =  x_jobs[:,-6:] - user[-6:]#diferença entre scores de cada recomendação com o usuario testado\n",
        "\n",
        "  #concatenação e criação do dataframe de recomendações, contendo probabilidade,diferenças e jo_id da recomendação\n",
        "  df_recomenda= np.concatenate((jobs.reshape(-1,1),data.sort_values('probabilidade',ascending=False)['probabilidade'].iloc[:n].values.reshape(-1,1),abs(differences)),axis=1)\n",
        "  df=pd.DataFrame(df_recomenda,columns=['job_id','probabilidade','dif_média_genius', 'dif_média_life','dif_média_geral','lat_dif','long_dif','grupo'])\n",
        "\n",
        "  return df\n"
      ]
    },
    {
      "cell_type": "markdown",
      "metadata": {
        "id": "qFPT8JzAp184"
      },
      "source": [
        "Naive Bayes + k-means"
      ]
    },
    {
      "cell_type": "markdown",
      "metadata": {},
      "source": [
        "Naive Bayes é um método de machine learning que usa as frequências das ocorrências em uma base de dados para prever uma variável de interesse. Seu nome vem do modelo estatístico bayesiano, que diz que o grau com que devemos acreditar numa afirmação vai ser ligeiramente alterado por novas evidências. Ele é utilizado para classificar dados em categorias com base na probabilidade condicional."
      ]
    },
    {
      "cell_type": "code",
      "execution_count": 51,
      "metadata": {
        "id": "T2lf-zS1p54Y"
      },
      "outputs": [],
      "source": [
        "from sklearn.naive_bayes import GaussianNB"
      ]
    },
    {
      "cell_type": "code",
      "execution_count": 52,
      "metadata": {
        "id": "AZSvR8ftp7_q"
      },
      "outputs": [],
      "source": [
        "def recomendar_nb(user,n):\n",
        "  #seleciona o X_job filtrando pela longitude e latitude do usuario, selecionando apenas os jobs que possuam a mesma latitute e longitude do usuario\n",
        "  X_jobs_with_LatLong = data_full.loc[(data_full['type_instance']=='Job_opp')&(data_full['latitude']==user[-3])&(data_full['longitude']==user[-2])][['score_Resiliente', 'score_Engajado', 'score_Colaborativo',\n",
        "       'score_Original', 'score_Pragmático', 'score_Consistente',\n",
        "       'score_classic', 'score_order', 'score_change', 'score_tireless',\n",
        "       'score_explorer', 'score_specialist', 'score_generalist','mean_geniues',\t'mean_life'\t,'media_geral', 'latitude', 'longitude','grupo']].values\n",
        "  #seleciona os job_ids utilizando o mesmo filtro que para o x\n",
        "  Y_jobs = data_full.loc[(data_full['type_instance']=='Job_opp')&(data_full['latitude']==user[-3])&(data_full['longitude']==user[-2])]['id'].values\n",
        "  NB = GaussianNB( ) #instancia o naive bayes\n",
        "  NB.fit(X_jobs_with_LatLong, Y_jobs) #treina o naive bayes com o X e o Y filtrado\n",
        "  y_pred_test = NB.predict_proba(user.reshape(1, -1)) # faz a predição da probabilidade de cada classe para o usuario testado\n",
        "  data = pd.DataFrame(y_pred_test.reshape(-1,1),columns =['Probabilidade'])#cria um dataframe contendo as probabilidades\n",
        "  jobs = Y_jobs[data.sort_values('Probabilidade',ascending=False).index[:n]]#encontra os job_ids correspondentes às probabilidades\n",
        "  x_jobs = X_jobs_with_LatLong[data.sort_values('Probabilidade',ascending=False).index[:n]]#encontra os scores médios dos gestores para comparação\n",
        "  differences =  x_jobs[:,-6:] - user[-6:]#diferença entre scores de cada recomendação com o usuario testado\n",
        "  #concatenação e criação do dataframe de recomendações, contendo probabilidade,diferenças e jo_id da recomendação\n",
        "  df_recomenda= np.concatenate((jobs.reshape(-1,1),data.sort_values('Probabilidade',ascending=False)['Probabilidade'].iloc[:n].values.reshape(-1,1),abs(differences)),axis=1)\n",
        "  df=pd.DataFrame(df_recomenda,columns=['job_id','Probabilidade','dif_média_genius', 'dif_média_life','dif_média_geral','lat_dif','long_dif','grupo'])#cria um dataframe com as recomendaçõs e suas métricas\n",
        "\n",
        "  return df"
      ]
    },
    {
      "cell_type": "markdown",
      "metadata": {
        "id": "XZO6XfMyp-TB"
      },
      "source": [
        "**Otimização**"
      ]
    },
    {
      "cell_type": "markdown",
      "metadata": {
        "id": "hZvyc8oPqB6K"
      },
      "source": [
        "Devido ao modelo de recomendação escolhido ser a filtragem colaborativa, e pela natureza do problema ser uma recomendação, não será possivel aplicar algoritimos como gridSearch ou Random Search, pois além de métricas de sucesso personalizadas (no nosso caso diferença entre médias de scores), nós não dividimos os dados em conjunto de treino e teste, uma vez que não possuimos uma classe para prever. Em vez disso, utilizamos os job_ids, como sendo as classes, e os dados dos gestores, como sendo de treino, para que os algorítimos capturem os padrões entre Scores e os ids, como acontece no caso da random forest e naive bayes e para calcular a distância entre usuario e gestores no caso do KNN"
      ]
    },
    {
      "cell_type": "markdown",
      "metadata": {
        "id": "V-ZEenYCqEKx"
      },
      "source": [
        "Nese caso, precisamos testar parâmetros manualmente e escolher os melhores para cada modelo, como no caso do KNN e do Random Forest. Para o Random Forest, será testado manualmente o parâmetro {n_estimators:[50,80,100,200]} e para o KNN as métricas : {'metrics':['cosine','euclidean','manhattan']}"
      ]
    },
    {
      "cell_type": "code",
      "execution_count": 45,
      "metadata": {
        "id": "N-y4-jKjqJpJ"
      },
      "outputs": [],
      "source": [
        "recomendacoes_knn = recomendar(X_user_with_lat_long[0])"
      ]
    },
    {
      "cell_type": "code",
      "execution_count": null,
      "metadata": {
        "id": "EHhpKVKMqJr7"
      },
      "outputs": [],
      "source": [
        "recomendacoes_knn_mh = recomendar(X_user_with_lat_long[0],metric='manhattan')"
      ]
    },
    {
      "cell_type": "code",
      "execution_count": null,
      "metadata": {
        "id": "Ptu4Ytu5qJur"
      },
      "outputs": [],
      "source": [
        "recomendacoes_knn_eu = recomendar(X_user_with_lat_long[0],metric='euclidean')"
      ]
    },
    {
      "cell_type": "code",
      "execution_count": null,
      "metadata": {
        "id": "3nlNxHQtqJxW"
      },
      "outputs": [],
      "source": [
        "recomendacoes_random_forest_50 = recomendar_rf(X_user_with_lat_long[0],10)"
      ]
    },
    {
      "cell_type": "code",
      "execution_count": 48,
      "metadata": {
        "id": "e0pL9LXIqJz1"
      },
      "outputs": [],
      "source": [
        "recomendacoes_random_forest_80 = recomendar_rf(X_user_with_lat_long[0],10,n_estim=80)"
      ]
    },
    {
      "cell_type": "code",
      "execution_count": null,
      "metadata": {
        "id": "AoTszXg5qJ2h"
      },
      "outputs": [],
      "source": [
        "recomendacoes_random_forest_100 = recomendar_rf(X_user_with_lat_long[0],10,n_estim=100)"
      ]
    },
    {
      "cell_type": "code",
      "execution_count": null,
      "metadata": {
        "id": "uJ5x78AuqThK"
      },
      "outputs": [],
      "source": [
        "recomendacoes_random_forest_200 = recomendar_rf(X_user_with_lat_long[0],10,n_estim=200)"
      ]
    },
    {
      "cell_type": "code",
      "execution_count": 53,
      "metadata": {
        "id": "uR-ubNcsqTkW"
      },
      "outputs": [],
      "source": [
        "recomendacoes_naive_bayes = recomendar_nb(X_user_with_lat_long[3],10)"
      ]
    },
    {
      "cell_type": "code",
      "execution_count": null,
      "metadata": {
        "id": "n2Zv1VvqqTm7"
      },
      "outputs": [],
      "source": [
        "#print com os resultados de cada teste de hiperparametros\n",
        "print( f\" distancias(média geral) :\\n knn with cosine : {recomendacoes_knn['dif_média_geral'].mean()} \\n knn with euclidean_dist : {recomendacoes_knn_eu['dif_média_geral'].mean()}   \\n knn with manhattan_dist : {recomendacoes_knn_mh['dif_média_geral'].mean()}  \\n random forest_50:{recomendacoes_random_forest_50['dif_média_geral'].mean()}\\n random forest_80:{recomendacoes_random_forest_80['dif_média_geral'].mean()} \\n random forest_100:{recomendacoes_random_forest_100['dif_média_geral'].mean()} \\n random fores_200t:{recomendacoes_random_forest_200['dif_média_geral'].mean()} \\n naive bayes : {recomendacoes_naive_bayes['dif_média_geral'].mean()}\" )"
      ]
    },
    {
      "cell_type": "markdown",
      "metadata": {
        "id": "Y0LWVK31qaD8"
      },
      "source": [
        "É possivel perceber que, para o KNN, a melhor métrica foi a \"cosine\", que se refere à distancia do cosseno, uma métrica complementar à semelhança do cosseno, que é uma medida de similaridade entra vetores, que, no nosso caso, pode ser usada para medir o nível de semelhança entre gestor e usuário. Esta semelhança é calculada pela seguinte equação:"
      ]
    },
    {
      "cell_type": "markdown",
      "metadata": {
        "id": "cV7RcwoshUCk"
      },
      "source": [
        "$$\n",
        "\\text{Semelhança do Cosseno} = \\frac{\\sum_{i=1}^{n} x_i \\cdot y_i}{\\sqrt{\\sum_{i=1}^{n} x_i^2} \\cdot \\sqrt{\\sum_{i=1}^{n} y_i^2}}\n",
        "$$"
      ]
    },
    {
      "cell_type": "markdown",
      "metadata": {
        "id": "DQvTuQhbheeu"
      },
      "source": [
        "Onde o somatório do numerador se refere ao produto escalar entre os vetores de teste e da instância.\n",
        "E os somatórios do denominador representam o módulo dos vetores analisados, ou seja dos 2 dados comparados.\n",
        "\n",
        "Sendo esta métrica mede o quanto 2 vetores são semelhantes e podemos abstrair os dados de gestores e usuarios como vetores e assim compararmos suas semelhanças entre si.\n",
        "\n",
        "A métrica usada pelo KNN é a distancia do cosseno que é uma medida complementar, sendo assim:\n"
      ]
    },
    {
      "cell_type": "markdown",
      "metadata": {
        "id": "80Caa-AbietZ"
      },
      "source": [
        "$$\n",
        "\\text{Distância do Cosseno} = 1 - \\frac{\\sum_{i=1}^{n} x_i \\cdot y_i}{\\sqrt{\\sum_{i=1}^{n} x_i^2} \\cdot \\sqrt{\\sum_{i=1}^{n} y_i^2}}\n",
        "$$"
      ]
    },
    {
      "cell_type": "markdown",
      "metadata": {
        "id": "04-AaKbWilXI"
      },
      "source": [
        "medindo conceitualmente a dissimilaridade entre 2 vetores, ou seja, o oposto da similaridade."
      ]
    },
    {
      "cell_type": "markdown",
      "metadata": {
        "id": "aRddXhrqqjvi"
      },
      "source": [
        "\n",
        "Agora para o Random Forest o melhor parametro foi de 80 estimadores (árvores), parâmetro este que conferiu uma menor diferença entre gestor e usuário."
      ]
    },
    {
      "cell_type": "markdown",
      "metadata": {
        "id": "952CUuNLmUVZ"
      },
      "source": [
        "# **Avaliação**"
      ]
    },
    {
      "cell_type": "markdown",
      "metadata": {
        "id": "gvwWeDedtHwa"
      },
      "source": [
        "**KNN**"
      ]
    },
    {
      "cell_type": "code",
      "execution_count": 46,
      "metadata": {
        "colab": {
          "base_uri": "https://localhost:8080/",
          "height": 362
        },
        "id": "EOoCVCXYtRDw",
        "outputId": "9fca0a6e-7974-48ac-b1eb-c64b7d3db15c"
      },
      "outputs": [
        {
          "data": {
            "text/html": [
              "\n",
              "  <div id=\"df-c22abf6d-6c59-4e12-9d66-956defd75204\" class=\"colab-df-container\">\n",
              "    <div>\n",
              "<style scoped>\n",
              "    .dataframe tbody tr th:only-of-type {\n",
              "        vertical-align: middle;\n",
              "    }\n",
              "\n",
              "    .dataframe tbody tr th {\n",
              "        vertical-align: top;\n",
              "    }\n",
              "\n",
              "    .dataframe thead th {\n",
              "        text-align: right;\n",
              "    }\n",
              "</style>\n",
              "<table border=\"1\" class=\"dataframe\">\n",
              "  <thead>\n",
              "    <tr style=\"text-align: right;\">\n",
              "      <th></th>\n",
              "      <th>job_id</th>\n",
              "      <th>semelhança</th>\n",
              "      <th>dif_média_genius</th>\n",
              "      <th>dif_média_life</th>\n",
              "      <th>dif_média_geral</th>\n",
              "      <th>lat_dif</th>\n",
              "      <th>long_dif</th>\n",
              "      <th>grupo</th>\n",
              "    </tr>\n",
              "  </thead>\n",
              "  <tbody>\n",
              "    <tr>\n",
              "      <th>0</th>\n",
              "      <td>2848.0</td>\n",
              "      <td>0.999961</td>\n",
              "      <td>0.281768</td>\n",
              "      <td>0.133424</td>\n",
              "      <td>0.348480</td>\n",
              "      <td>0.0</td>\n",
              "      <td>0.0</td>\n",
              "      <td>0.0</td>\n",
              "    </tr>\n",
              "    <tr>\n",
              "      <th>1</th>\n",
              "      <td>2849.0</td>\n",
              "      <td>0.999957</td>\n",
              "      <td>0.149323</td>\n",
              "      <td>0.169159</td>\n",
              "      <td>0.233902</td>\n",
              "      <td>0.0</td>\n",
              "      <td>0.0</td>\n",
              "      <td>0.0</td>\n",
              "    </tr>\n",
              "    <tr>\n",
              "      <th>2</th>\n",
              "      <td>2851.0</td>\n",
              "      <td>0.999945</td>\n",
              "      <td>0.140337</td>\n",
              "      <td>0.375041</td>\n",
              "      <td>0.327857</td>\n",
              "      <td>0.0</td>\n",
              "      <td>0.0</td>\n",
              "      <td>0.0</td>\n",
              "    </tr>\n",
              "    <tr>\n",
              "      <th>3</th>\n",
              "      <td>2888.0</td>\n",
              "      <td>0.999944</td>\n",
              "      <td>0.320944</td>\n",
              "      <td>0.497823</td>\n",
              "      <td>0.569856</td>\n",
              "      <td>0.0</td>\n",
              "      <td>0.0</td>\n",
              "      <td>0.0</td>\n",
              "    </tr>\n",
              "    <tr>\n",
              "      <th>4</th>\n",
              "      <td>2748.0</td>\n",
              "      <td>0.999942</td>\n",
              "      <td>0.129292</td>\n",
              "      <td>0.262994</td>\n",
              "      <td>0.260789</td>\n",
              "      <td>0.0</td>\n",
              "      <td>0.0</td>\n",
              "      <td>0.0</td>\n",
              "    </tr>\n",
              "    <tr>\n",
              "      <th>5</th>\n",
              "      <td>2811.0</td>\n",
              "      <td>0.999937</td>\n",
              "      <td>0.463718</td>\n",
              "      <td>0.025686</td>\n",
              "      <td>0.450876</td>\n",
              "      <td>0.0</td>\n",
              "      <td>0.0</td>\n",
              "      <td>0.0</td>\n",
              "    </tr>\n",
              "    <tr>\n",
              "      <th>6</th>\n",
              "      <td>2752.0</td>\n",
              "      <td>0.999927</td>\n",
              "      <td>0.634261</td>\n",
              "      <td>0.157200</td>\n",
              "      <td>0.712860</td>\n",
              "      <td>0.0</td>\n",
              "      <td>0.0</td>\n",
              "      <td>0.0</td>\n",
              "    </tr>\n",
              "    <tr>\n",
              "      <th>7</th>\n",
              "      <td>2850.0</td>\n",
              "      <td>0.999926</td>\n",
              "      <td>0.530614</td>\n",
              "      <td>0.102279</td>\n",
              "      <td>0.581753</td>\n",
              "      <td>0.0</td>\n",
              "      <td>0.0</td>\n",
              "      <td>0.0</td>\n",
              "    </tr>\n",
              "    <tr>\n",
              "      <th>8</th>\n",
              "      <td>2727.0</td>\n",
              "      <td>0.999926</td>\n",
              "      <td>0.066439</td>\n",
              "      <td>0.389847</td>\n",
              "      <td>0.128485</td>\n",
              "      <td>0.0</td>\n",
              "      <td>0.0</td>\n",
              "      <td>0.0</td>\n",
              "    </tr>\n",
              "    <tr>\n",
              "      <th>9</th>\n",
              "      <td>2884.0</td>\n",
              "      <td>0.999921</td>\n",
              "      <td>0.266244</td>\n",
              "      <td>0.098101</td>\n",
              "      <td>0.315294</td>\n",
              "      <td>0.0</td>\n",
              "      <td>0.0</td>\n",
              "      <td>0.0</td>\n",
              "    </tr>\n",
              "  </tbody>\n",
              "</table>\n",
              "</div>\n",
              "    <div class=\"colab-df-buttons\">\n",
              "\n",
              "  <div class=\"colab-df-container\">\n",
              "    <button class=\"colab-df-convert\" onclick=\"convertToInteractive('df-c22abf6d-6c59-4e12-9d66-956defd75204')\"\n",
              "            title=\"Convert this dataframe to an interactive table.\"\n",
              "            style=\"display:none;\">\n",
              "\n",
              "  <svg xmlns=\"http://www.w3.org/2000/svg\" height=\"24px\" viewBox=\"0 -960 960 960\">\n",
              "    <path d=\"M120-120v-720h720v720H120Zm60-500h600v-160H180v160Zm220 220h160v-160H400v160Zm0 220h160v-160H400v160ZM180-400h160v-160H180v160Zm440 0h160v-160H620v160ZM180-180h160v-160H180v160Zm440 0h160v-160H620v160Z\"/>\n",
              "  </svg>\n",
              "    </button>\n",
              "\n",
              "  <style>\n",
              "    .colab-df-container {\n",
              "      display:flex;\n",
              "      gap: 12px;\n",
              "    }\n",
              "\n",
              "    .colab-df-convert {\n",
              "      background-color: #E8F0FE;\n",
              "      border: none;\n",
              "      border-radius: 50%;\n",
              "      cursor: pointer;\n",
              "      display: none;\n",
              "      fill: #1967D2;\n",
              "      height: 32px;\n",
              "      padding: 0 0 0 0;\n",
              "      width: 32px;\n",
              "    }\n",
              "\n",
              "    .colab-df-convert:hover {\n",
              "      background-color: #E2EBFA;\n",
              "      box-shadow: 0px 1px 2px rgba(60, 64, 67, 0.3), 0px 1px 3px 1px rgba(60, 64, 67, 0.15);\n",
              "      fill: #174EA6;\n",
              "    }\n",
              "\n",
              "    .colab-df-buttons div {\n",
              "      margin-bottom: 4px;\n",
              "    }\n",
              "\n",
              "    [theme=dark] .colab-df-convert {\n",
              "      background-color: #3B4455;\n",
              "      fill: #D2E3FC;\n",
              "    }\n",
              "\n",
              "    [theme=dark] .colab-df-convert:hover {\n",
              "      background-color: #434B5C;\n",
              "      box-shadow: 0px 1px 3px 1px rgba(0, 0, 0, 0.15);\n",
              "      filter: drop-shadow(0px 1px 2px rgba(0, 0, 0, 0.3));\n",
              "      fill: #FFFFFF;\n",
              "    }\n",
              "  </style>\n",
              "\n",
              "    <script>\n",
              "      const buttonEl =\n",
              "        document.querySelector('#df-c22abf6d-6c59-4e12-9d66-956defd75204 button.colab-df-convert');\n",
              "      buttonEl.style.display =\n",
              "        google.colab.kernel.accessAllowed ? 'block' : 'none';\n",
              "\n",
              "      async function convertToInteractive(key) {\n",
              "        const element = document.querySelector('#df-c22abf6d-6c59-4e12-9d66-956defd75204');\n",
              "        const dataTable =\n",
              "          await google.colab.kernel.invokeFunction('convertToInteractive',\n",
              "                                                    [key], {});\n",
              "        if (!dataTable) return;\n",
              "\n",
              "        const docLinkHtml = 'Like what you see? Visit the ' +\n",
              "          '<a target=\"_blank\" href=https://colab.research.google.com/notebooks/data_table.ipynb>data table notebook</a>'\n",
              "          + ' to learn more about interactive tables.';\n",
              "        element.innerHTML = '';\n",
              "        dataTable['output_type'] = 'display_data';\n",
              "        await google.colab.output.renderOutput(dataTable, element);\n",
              "        const docLink = document.createElement('div');\n",
              "        docLink.innerHTML = docLinkHtml;\n",
              "        element.appendChild(docLink);\n",
              "      }\n",
              "    </script>\n",
              "  </div>\n",
              "\n",
              "\n",
              "<div id=\"df-7481aac3-c1e2-4158-95f3-341275955718\">\n",
              "  <button class=\"colab-df-quickchart\" onclick=\"quickchart('df-7481aac3-c1e2-4158-95f3-341275955718')\"\n",
              "            title=\"Suggest charts.\"\n",
              "            style=\"display:none;\">\n",
              "\n",
              "<svg xmlns=\"http://www.w3.org/2000/svg\" height=\"24px\"viewBox=\"0 0 24 24\"\n",
              "     width=\"24px\">\n",
              "    <g>\n",
              "        <path d=\"M19 3H5c-1.1 0-2 .9-2 2v14c0 1.1.9 2 2 2h14c1.1 0 2-.9 2-2V5c0-1.1-.9-2-2-2zM9 17H7v-7h2v7zm4 0h-2V7h2v10zm4 0h-2v-4h2v4z\"/>\n",
              "    </g>\n",
              "</svg>\n",
              "  </button>\n",
              "\n",
              "<style>\n",
              "  .colab-df-quickchart {\n",
              "      --bg-color: #E8F0FE;\n",
              "      --fill-color: #1967D2;\n",
              "      --hover-bg-color: #E2EBFA;\n",
              "      --hover-fill-color: #174EA6;\n",
              "      --disabled-fill-color: #AAA;\n",
              "      --disabled-bg-color: #DDD;\n",
              "  }\n",
              "\n",
              "  [theme=dark] .colab-df-quickchart {\n",
              "      --bg-color: #3B4455;\n",
              "      --fill-color: #D2E3FC;\n",
              "      --hover-bg-color: #434B5C;\n",
              "      --hover-fill-color: #FFFFFF;\n",
              "      --disabled-bg-color: #3B4455;\n",
              "      --disabled-fill-color: #666;\n",
              "  }\n",
              "\n",
              "  .colab-df-quickchart {\n",
              "    background-color: var(--bg-color);\n",
              "    border: none;\n",
              "    border-radius: 50%;\n",
              "    cursor: pointer;\n",
              "    display: none;\n",
              "    fill: var(--fill-color);\n",
              "    height: 32px;\n",
              "    padding: 0;\n",
              "    width: 32px;\n",
              "  }\n",
              "\n",
              "  .colab-df-quickchart:hover {\n",
              "    background-color: var(--hover-bg-color);\n",
              "    box-shadow: 0 1px 2px rgba(60, 64, 67, 0.3), 0 1px 3px 1px rgba(60, 64, 67, 0.15);\n",
              "    fill: var(--button-hover-fill-color);\n",
              "  }\n",
              "\n",
              "  .colab-df-quickchart-complete:disabled,\n",
              "  .colab-df-quickchart-complete:disabled:hover {\n",
              "    background-color: var(--disabled-bg-color);\n",
              "    fill: var(--disabled-fill-color);\n",
              "    box-shadow: none;\n",
              "  }\n",
              "\n",
              "  .colab-df-spinner {\n",
              "    border: 2px solid var(--fill-color);\n",
              "    border-color: transparent;\n",
              "    border-bottom-color: var(--fill-color);\n",
              "    animation:\n",
              "      spin 1s steps(1) infinite;\n",
              "  }\n",
              "\n",
              "  @keyframes spin {\n",
              "    0% {\n",
              "      border-color: transparent;\n",
              "      border-bottom-color: var(--fill-color);\n",
              "      border-left-color: var(--fill-color);\n",
              "    }\n",
              "    20% {\n",
              "      border-color: transparent;\n",
              "      border-left-color: var(--fill-color);\n",
              "      border-top-color: var(--fill-color);\n",
              "    }\n",
              "    30% {\n",
              "      border-color: transparent;\n",
              "      border-left-color: var(--fill-color);\n",
              "      border-top-color: var(--fill-color);\n",
              "      border-right-color: var(--fill-color);\n",
              "    }\n",
              "    40% {\n",
              "      border-color: transparent;\n",
              "      border-right-color: var(--fill-color);\n",
              "      border-top-color: var(--fill-color);\n",
              "    }\n",
              "    60% {\n",
              "      border-color: transparent;\n",
              "      border-right-color: var(--fill-color);\n",
              "    }\n",
              "    80% {\n",
              "      border-color: transparent;\n",
              "      border-right-color: var(--fill-color);\n",
              "      border-bottom-color: var(--fill-color);\n",
              "    }\n",
              "    90% {\n",
              "      border-color: transparent;\n",
              "      border-bottom-color: var(--fill-color);\n",
              "    }\n",
              "  }\n",
              "</style>\n",
              "\n",
              "  <script>\n",
              "    async function quickchart(key) {\n",
              "      const quickchartButtonEl =\n",
              "        document.querySelector('#' + key + ' button');\n",
              "      quickchartButtonEl.disabled = true;  // To prevent multiple clicks.\n",
              "      quickchartButtonEl.classList.add('colab-df-spinner');\n",
              "      try {\n",
              "        const charts = await google.colab.kernel.invokeFunction(\n",
              "            'suggestCharts', [key], {});\n",
              "      } catch (error) {\n",
              "        console.error('Error during call to suggestCharts:', error);\n",
              "      }\n",
              "      quickchartButtonEl.classList.remove('colab-df-spinner');\n",
              "      quickchartButtonEl.classList.add('colab-df-quickchart-complete');\n",
              "    }\n",
              "    (() => {\n",
              "      let quickchartButtonEl =\n",
              "        document.querySelector('#df-7481aac3-c1e2-4158-95f3-341275955718 button');\n",
              "      quickchartButtonEl.style.display =\n",
              "        google.colab.kernel.accessAllowed ? 'block' : 'none';\n",
              "    })();\n",
              "  </script>\n",
              "</div>\n",
              "    </div>\n",
              "  </div>\n"
            ],
            "text/plain": [
              "   job_id  semelhança  dif_média_genius  dif_média_life  dif_média_geral  \\\n",
              "0  2848.0    0.999961          0.281768        0.133424         0.348480   \n",
              "1  2849.0    0.999957          0.149323        0.169159         0.233902   \n",
              "2  2851.0    0.999945          0.140337        0.375041         0.327857   \n",
              "3  2888.0    0.999944          0.320944        0.497823         0.569856   \n",
              "4  2748.0    0.999942          0.129292        0.262994         0.260789   \n",
              "5  2811.0    0.999937          0.463718        0.025686         0.450876   \n",
              "6  2752.0    0.999927          0.634261        0.157200         0.712860   \n",
              "7  2850.0    0.999926          0.530614        0.102279         0.581753   \n",
              "8  2727.0    0.999926          0.066439        0.389847         0.128485   \n",
              "9  2884.0    0.999921          0.266244        0.098101         0.315294   \n",
              "\n",
              "   lat_dif  long_dif  grupo  \n",
              "0      0.0       0.0    0.0  \n",
              "1      0.0       0.0    0.0  \n",
              "2      0.0       0.0    0.0  \n",
              "3      0.0       0.0    0.0  \n",
              "4      0.0       0.0    0.0  \n",
              "5      0.0       0.0    0.0  \n",
              "6      0.0       0.0    0.0  \n",
              "7      0.0       0.0    0.0  \n",
              "8      0.0       0.0    0.0  \n",
              "9      0.0       0.0    0.0  "
            ]
          },
          "execution_count": 46,
          "metadata": {},
          "output_type": "execute_result"
        }
      ],
      "source": [
        "\n",
        "  recomendacoes_knn"
      ]
    },
    {
      "cell_type": "markdown",
      "metadata": {
        "id": "4tbSm0Q7tH16"
      },
      "source": [
        "**Random Forest**"
      ]
    },
    {
      "cell_type": "code",
      "execution_count": 49,
      "metadata": {
        "colab": {
          "base_uri": "https://localhost:8080/",
          "height": 362
        },
        "id": "gwAYcJv7tRbJ",
        "outputId": "afd4b2e9-c55f-46a5-87a6-016d63a8138e"
      },
      "outputs": [
        {
          "data": {
            "text/html": [
              "\n",
              "  <div id=\"df-bceecf5c-024f-46ee-8fd6-63548cffa7be\" class=\"colab-df-container\">\n",
              "    <div>\n",
              "<style scoped>\n",
              "    .dataframe tbody tr th:only-of-type {\n",
              "        vertical-align: middle;\n",
              "    }\n",
              "\n",
              "    .dataframe tbody tr th {\n",
              "        vertical-align: top;\n",
              "    }\n",
              "\n",
              "    .dataframe thead th {\n",
              "        text-align: right;\n",
              "    }\n",
              "</style>\n",
              "<table border=\"1\" class=\"dataframe\">\n",
              "  <thead>\n",
              "    <tr style=\"text-align: right;\">\n",
              "      <th></th>\n",
              "      <th>job_id</th>\n",
              "      <th>probabilidade</th>\n",
              "      <th>dif_média_genius</th>\n",
              "      <th>dif_média_life</th>\n",
              "      <th>dif_média_geral</th>\n",
              "      <th>lat_dif</th>\n",
              "      <th>long_dif</th>\n",
              "      <th>grupo</th>\n",
              "    </tr>\n",
              "  </thead>\n",
              "  <tbody>\n",
              "    <tr>\n",
              "      <th>0</th>\n",
              "      <td>2727.0</td>\n",
              "      <td>0.187500</td>\n",
              "      <td>0.066439</td>\n",
              "      <td>0.389847</td>\n",
              "      <td>0.128485</td>\n",
              "      <td>0.0</td>\n",
              "      <td>0.0</td>\n",
              "      <td>0.0</td>\n",
              "    </tr>\n",
              "    <tr>\n",
              "      <th>1</th>\n",
              "      <td>2808.0</td>\n",
              "      <td>0.087500</td>\n",
              "      <td>0.039265</td>\n",
              "      <td>0.143040</td>\n",
              "      <td>0.110785</td>\n",
              "      <td>0.0</td>\n",
              "      <td>0.0</td>\n",
              "      <td>0.0</td>\n",
              "    </tr>\n",
              "    <tr>\n",
              "      <th>2</th>\n",
              "      <td>2848.0</td>\n",
              "      <td>0.050000</td>\n",
              "      <td>0.281768</td>\n",
              "      <td>0.133424</td>\n",
              "      <td>0.348480</td>\n",
              "      <td>0.0</td>\n",
              "      <td>0.0</td>\n",
              "      <td>0.0</td>\n",
              "    </tr>\n",
              "    <tr>\n",
              "      <th>3</th>\n",
              "      <td>2810.0</td>\n",
              "      <td>0.050000</td>\n",
              "      <td>1.860094</td>\n",
              "      <td>0.563394</td>\n",
              "      <td>2.141791</td>\n",
              "      <td>0.0</td>\n",
              "      <td>0.0</td>\n",
              "      <td>0.0</td>\n",
              "    </tr>\n",
              "    <tr>\n",
              "      <th>4</th>\n",
              "      <td>2798.0</td>\n",
              "      <td>0.050000</td>\n",
              "      <td>1.099711</td>\n",
              "      <td>0.170362</td>\n",
              "      <td>1.184892</td>\n",
              "      <td>0.0</td>\n",
              "      <td>0.0</td>\n",
              "      <td>0.0</td>\n",
              "    </tr>\n",
              "    <tr>\n",
              "      <th>5</th>\n",
              "      <td>2841.0</td>\n",
              "      <td>0.040625</td>\n",
              "      <td>0.320570</td>\n",
              "      <td>0.137509</td>\n",
              "      <td>0.389324</td>\n",
              "      <td>0.0</td>\n",
              "      <td>0.0</td>\n",
              "      <td>0.0</td>\n",
              "    </tr>\n",
              "    <tr>\n",
              "      <th>6</th>\n",
              "      <td>2797.0</td>\n",
              "      <td>0.037500</td>\n",
              "      <td>0.865217</td>\n",
              "      <td>0.109324</td>\n",
              "      <td>0.919879</td>\n",
              "      <td>0.0</td>\n",
              "      <td>0.0</td>\n",
              "      <td>0.0</td>\n",
              "    </tr>\n",
              "    <tr>\n",
              "      <th>7</th>\n",
              "      <td>2796.0</td>\n",
              "      <td>0.037500</td>\n",
              "      <td>0.439612</td>\n",
              "      <td>0.367379</td>\n",
              "      <td>0.255923</td>\n",
              "      <td>0.0</td>\n",
              "      <td>0.0</td>\n",
              "      <td>0.0</td>\n",
              "    </tr>\n",
              "    <tr>\n",
              "      <th>8</th>\n",
              "      <td>2807.0</td>\n",
              "      <td>0.037500</td>\n",
              "      <td>0.568620</td>\n",
              "      <td>0.155011</td>\n",
              "      <td>0.491114</td>\n",
              "      <td>0.0</td>\n",
              "      <td>0.0</td>\n",
              "      <td>0.0</td>\n",
              "    </tr>\n",
              "    <tr>\n",
              "      <th>9</th>\n",
              "      <td>2757.0</td>\n",
              "      <td>0.037500</td>\n",
              "      <td>1.360581</td>\n",
              "      <td>0.523135</td>\n",
              "      <td>1.622149</td>\n",
              "      <td>0.0</td>\n",
              "      <td>0.0</td>\n",
              "      <td>0.0</td>\n",
              "    </tr>\n",
              "  </tbody>\n",
              "</table>\n",
              "</div>\n",
              "    <div class=\"colab-df-buttons\">\n",
              "\n",
              "  <div class=\"colab-df-container\">\n",
              "    <button class=\"colab-df-convert\" onclick=\"convertToInteractive('df-bceecf5c-024f-46ee-8fd6-63548cffa7be')\"\n",
              "            title=\"Convert this dataframe to an interactive table.\"\n",
              "            style=\"display:none;\">\n",
              "\n",
              "  <svg xmlns=\"http://www.w3.org/2000/svg\" height=\"24px\" viewBox=\"0 -960 960 960\">\n",
              "    <path d=\"M120-120v-720h720v720H120Zm60-500h600v-160H180v160Zm220 220h160v-160H400v160Zm0 220h160v-160H400v160ZM180-400h160v-160H180v160Zm440 0h160v-160H620v160ZM180-180h160v-160H180v160Zm440 0h160v-160H620v160Z\"/>\n",
              "  </svg>\n",
              "    </button>\n",
              "\n",
              "  <style>\n",
              "    .colab-df-container {\n",
              "      display:flex;\n",
              "      gap: 12px;\n",
              "    }\n",
              "\n",
              "    .colab-df-convert {\n",
              "      background-color: #E8F0FE;\n",
              "      border: none;\n",
              "      border-radius: 50%;\n",
              "      cursor: pointer;\n",
              "      display: none;\n",
              "      fill: #1967D2;\n",
              "      height: 32px;\n",
              "      padding: 0 0 0 0;\n",
              "      width: 32px;\n",
              "    }\n",
              "\n",
              "    .colab-df-convert:hover {\n",
              "      background-color: #E2EBFA;\n",
              "      box-shadow: 0px 1px 2px rgba(60, 64, 67, 0.3), 0px 1px 3px 1px rgba(60, 64, 67, 0.15);\n",
              "      fill: #174EA6;\n",
              "    }\n",
              "\n",
              "    .colab-df-buttons div {\n",
              "      margin-bottom: 4px;\n",
              "    }\n",
              "\n",
              "    [theme=dark] .colab-df-convert {\n",
              "      background-color: #3B4455;\n",
              "      fill: #D2E3FC;\n",
              "    }\n",
              "\n",
              "    [theme=dark] .colab-df-convert:hover {\n",
              "      background-color: #434B5C;\n",
              "      box-shadow: 0px 1px 3px 1px rgba(0, 0, 0, 0.15);\n",
              "      filter: drop-shadow(0px 1px 2px rgba(0, 0, 0, 0.3));\n",
              "      fill: #FFFFFF;\n",
              "    }\n",
              "  </style>\n",
              "\n",
              "    <script>\n",
              "      const buttonEl =\n",
              "        document.querySelector('#df-bceecf5c-024f-46ee-8fd6-63548cffa7be button.colab-df-convert');\n",
              "      buttonEl.style.display =\n",
              "        google.colab.kernel.accessAllowed ? 'block' : 'none';\n",
              "\n",
              "      async function convertToInteractive(key) {\n",
              "        const element = document.querySelector('#df-bceecf5c-024f-46ee-8fd6-63548cffa7be');\n",
              "        const dataTable =\n",
              "          await google.colab.kernel.invokeFunction('convertToInteractive',\n",
              "                                                    [key], {});\n",
              "        if (!dataTable) return;\n",
              "\n",
              "        const docLinkHtml = 'Like what you see? Visit the ' +\n",
              "          '<a target=\"_blank\" href=https://colab.research.google.com/notebooks/data_table.ipynb>data table notebook</a>'\n",
              "          + ' to learn more about interactive tables.';\n",
              "        element.innerHTML = '';\n",
              "        dataTable['output_type'] = 'display_data';\n",
              "        await google.colab.output.renderOutput(dataTable, element);\n",
              "        const docLink = document.createElement('div');\n",
              "        docLink.innerHTML = docLinkHtml;\n",
              "        element.appendChild(docLink);\n",
              "      }\n",
              "    </script>\n",
              "  </div>\n",
              "\n",
              "\n",
              "<div id=\"df-9ff0f497-d079-4664-99e7-4946c805926e\">\n",
              "  <button class=\"colab-df-quickchart\" onclick=\"quickchart('df-9ff0f497-d079-4664-99e7-4946c805926e')\"\n",
              "            title=\"Suggest charts.\"\n",
              "            style=\"display:none;\">\n",
              "\n",
              "<svg xmlns=\"http://www.w3.org/2000/svg\" height=\"24px\"viewBox=\"0 0 24 24\"\n",
              "     width=\"24px\">\n",
              "    <g>\n",
              "        <path d=\"M19 3H5c-1.1 0-2 .9-2 2v14c0 1.1.9 2 2 2h14c1.1 0 2-.9 2-2V5c0-1.1-.9-2-2-2zM9 17H7v-7h2v7zm4 0h-2V7h2v10zm4 0h-2v-4h2v4z\"/>\n",
              "    </g>\n",
              "</svg>\n",
              "  </button>\n",
              "\n",
              "<style>\n",
              "  .colab-df-quickchart {\n",
              "      --bg-color: #E8F0FE;\n",
              "      --fill-color: #1967D2;\n",
              "      --hover-bg-color: #E2EBFA;\n",
              "      --hover-fill-color: #174EA6;\n",
              "      --disabled-fill-color: #AAA;\n",
              "      --disabled-bg-color: #DDD;\n",
              "  }\n",
              "\n",
              "  [theme=dark] .colab-df-quickchart {\n",
              "      --bg-color: #3B4455;\n",
              "      --fill-color: #D2E3FC;\n",
              "      --hover-bg-color: #434B5C;\n",
              "      --hover-fill-color: #FFFFFF;\n",
              "      --disabled-bg-color: #3B4455;\n",
              "      --disabled-fill-color: #666;\n",
              "  }\n",
              "\n",
              "  .colab-df-quickchart {\n",
              "    background-color: var(--bg-color);\n",
              "    border: none;\n",
              "    border-radius: 50%;\n",
              "    cursor: pointer;\n",
              "    display: none;\n",
              "    fill: var(--fill-color);\n",
              "    height: 32px;\n",
              "    padding: 0;\n",
              "    width: 32px;\n",
              "  }\n",
              "\n",
              "  .colab-df-quickchart:hover {\n",
              "    background-color: var(--hover-bg-color);\n",
              "    box-shadow: 0 1px 2px rgba(60, 64, 67, 0.3), 0 1px 3px 1px rgba(60, 64, 67, 0.15);\n",
              "    fill: var(--button-hover-fill-color);\n",
              "  }\n",
              "\n",
              "  .colab-df-quickchart-complete:disabled,\n",
              "  .colab-df-quickchart-complete:disabled:hover {\n",
              "    background-color: var(--disabled-bg-color);\n",
              "    fill: var(--disabled-fill-color);\n",
              "    box-shadow: none;\n",
              "  }\n",
              "\n",
              "  .colab-df-spinner {\n",
              "    border: 2px solid var(--fill-color);\n",
              "    border-color: transparent;\n",
              "    border-bottom-color: var(--fill-color);\n",
              "    animation:\n",
              "      spin 1s steps(1) infinite;\n",
              "  }\n",
              "\n",
              "  @keyframes spin {\n",
              "    0% {\n",
              "      border-color: transparent;\n",
              "      border-bottom-color: var(--fill-color);\n",
              "      border-left-color: var(--fill-color);\n",
              "    }\n",
              "    20% {\n",
              "      border-color: transparent;\n",
              "      border-left-color: var(--fill-color);\n",
              "      border-top-color: var(--fill-color);\n",
              "    }\n",
              "    30% {\n",
              "      border-color: transparent;\n",
              "      border-left-color: var(--fill-color);\n",
              "      border-top-color: var(--fill-color);\n",
              "      border-right-color: var(--fill-color);\n",
              "    }\n",
              "    40% {\n",
              "      border-color: transparent;\n",
              "      border-right-color: var(--fill-color);\n",
              "      border-top-color: var(--fill-color);\n",
              "    }\n",
              "    60% {\n",
              "      border-color: transparent;\n",
              "      border-right-color: var(--fill-color);\n",
              "    }\n",
              "    80% {\n",
              "      border-color: transparent;\n",
              "      border-right-color: var(--fill-color);\n",
              "      border-bottom-color: var(--fill-color);\n",
              "    }\n",
              "    90% {\n",
              "      border-color: transparent;\n",
              "      border-bottom-color: var(--fill-color);\n",
              "    }\n",
              "  }\n",
              "</style>\n",
              "\n",
              "  <script>\n",
              "    async function quickchart(key) {\n",
              "      const quickchartButtonEl =\n",
              "        document.querySelector('#' + key + ' button');\n",
              "      quickchartButtonEl.disabled = true;  // To prevent multiple clicks.\n",
              "      quickchartButtonEl.classList.add('colab-df-spinner');\n",
              "      try {\n",
              "        const charts = await google.colab.kernel.invokeFunction(\n",
              "            'suggestCharts', [key], {});\n",
              "      } catch (error) {\n",
              "        console.error('Error during call to suggestCharts:', error);\n",
              "      }\n",
              "      quickchartButtonEl.classList.remove('colab-df-spinner');\n",
              "      quickchartButtonEl.classList.add('colab-df-quickchart-complete');\n",
              "    }\n",
              "    (() => {\n",
              "      let quickchartButtonEl =\n",
              "        document.querySelector('#df-9ff0f497-d079-4664-99e7-4946c805926e button');\n",
              "      quickchartButtonEl.style.display =\n",
              "        google.colab.kernel.accessAllowed ? 'block' : 'none';\n",
              "    })();\n",
              "  </script>\n",
              "</div>\n",
              "    </div>\n",
              "  </div>\n"
            ],
            "text/plain": [
              "   job_id  probabilidade  dif_média_genius  dif_média_life  dif_média_geral  \\\n",
              "0  2727.0       0.187500          0.066439        0.389847         0.128485   \n",
              "1  2808.0       0.087500          0.039265        0.143040         0.110785   \n",
              "2  2848.0       0.050000          0.281768        0.133424         0.348480   \n",
              "3  2810.0       0.050000          1.860094        0.563394         2.141791   \n",
              "4  2798.0       0.050000          1.099711        0.170362         1.184892   \n",
              "5  2841.0       0.040625          0.320570        0.137509         0.389324   \n",
              "6  2797.0       0.037500          0.865217        0.109324         0.919879   \n",
              "7  2796.0       0.037500          0.439612        0.367379         0.255923   \n",
              "8  2807.0       0.037500          0.568620        0.155011         0.491114   \n",
              "9  2757.0       0.037500          1.360581        0.523135         1.622149   \n",
              "\n",
              "   lat_dif  long_dif  grupo  \n",
              "0      0.0       0.0    0.0  \n",
              "1      0.0       0.0    0.0  \n",
              "2      0.0       0.0    0.0  \n",
              "3      0.0       0.0    0.0  \n",
              "4      0.0       0.0    0.0  \n",
              "5      0.0       0.0    0.0  \n",
              "6      0.0       0.0    0.0  \n",
              "7      0.0       0.0    0.0  \n",
              "8      0.0       0.0    0.0  \n",
              "9      0.0       0.0    0.0  "
            ]
          },
          "execution_count": 49,
          "metadata": {},
          "output_type": "execute_result"
        }
      ],
      "source": [
        "recomendacoes_random_forest_80"
      ]
    },
    {
      "cell_type": "markdown",
      "metadata": {
        "id": "_FQtPFNTtH8I"
      },
      "source": [
        "**Naive Bayes**"
      ]
    },
    {
      "cell_type": "code",
      "execution_count": 54,
      "metadata": {
        "colab": {
          "base_uri": "https://localhost:8080/",
          "height": 362
        },
        "id": "XndZR8oztR01",
        "outputId": "dc8d5658-09e5-4afd-dbeb-a68e1fd292eb"
      },
      "outputs": [
        {
          "data": {
            "text/html": [
              "\n",
              "  <div id=\"df-93795ffe-fcd9-45c6-8270-1cb581c92e78\" class=\"colab-df-container\">\n",
              "    <div>\n",
              "<style scoped>\n",
              "    .dataframe tbody tr th:only-of-type {\n",
              "        vertical-align: middle;\n",
              "    }\n",
              "\n",
              "    .dataframe tbody tr th {\n",
              "        vertical-align: top;\n",
              "    }\n",
              "\n",
              "    .dataframe thead th {\n",
              "        text-align: right;\n",
              "    }\n",
              "</style>\n",
              "<table border=\"1\" class=\"dataframe\">\n",
              "  <thead>\n",
              "    <tr style=\"text-align: right;\">\n",
              "      <th></th>\n",
              "      <th>job_id</th>\n",
              "      <th>Probabilidade</th>\n",
              "      <th>dif_média_genius</th>\n",
              "      <th>dif_média_life</th>\n",
              "      <th>dif_média_geral</th>\n",
              "      <th>lat_dif</th>\n",
              "      <th>long_dif</th>\n",
              "      <th>grupo</th>\n",
              "    </tr>\n",
              "  </thead>\n",
              "  <tbody>\n",
              "    <tr>\n",
              "      <th>0</th>\n",
              "      <td>2915.0</td>\n",
              "      <td>1.0</td>\n",
              "      <td>0.611030</td>\n",
              "      <td>0.018262</td>\n",
              "      <td>0.601899</td>\n",
              "      <td>0.0</td>\n",
              "      <td>0.0</td>\n",
              "      <td>0.0</td>\n",
              "    </tr>\n",
              "    <tr>\n",
              "      <th>1</th>\n",
              "      <td>2727.0</td>\n",
              "      <td>0.0</td>\n",
              "      <td>1.141561</td>\n",
              "      <td>0.294282</td>\n",
              "      <td>0.994420</td>\n",
              "      <td>0.0</td>\n",
              "      <td>0.0</td>\n",
              "      <td>0.0</td>\n",
              "    </tr>\n",
              "    <tr>\n",
              "      <th>2</th>\n",
              "      <td>2840.0</td>\n",
              "      <td>0.0</td>\n",
              "      <td>1.174759</td>\n",
              "      <td>0.048894</td>\n",
              "      <td>1.199206</td>\n",
              "      <td>0.0</td>\n",
              "      <td>0.0</td>\n",
              "      <td>0.0</td>\n",
              "    </tr>\n",
              "    <tr>\n",
              "      <th>3</th>\n",
              "      <td>2811.0</td>\n",
              "      <td>0.0</td>\n",
              "      <td>0.611404</td>\n",
              "      <td>0.121251</td>\n",
              "      <td>0.672029</td>\n",
              "      <td>0.0</td>\n",
              "      <td>0.0</td>\n",
              "      <td>0.0</td>\n",
              "    </tr>\n",
              "    <tr>\n",
              "      <th>4</th>\n",
              "      <td>2845.0</td>\n",
              "      <td>0.0</td>\n",
              "      <td>0.285494</td>\n",
              "      <td>0.661188</td>\n",
              "      <td>0.045100</td>\n",
              "      <td>0.0</td>\n",
              "      <td>0.0</td>\n",
              "      <td>0.0</td>\n",
              "    </tr>\n",
              "    <tr>\n",
              "      <th>5</th>\n",
              "      <td>2845.0</td>\n",
              "      <td>0.0</td>\n",
              "      <td>0.285494</td>\n",
              "      <td>0.661188</td>\n",
              "      <td>0.045100</td>\n",
              "      <td>0.0</td>\n",
              "      <td>0.0</td>\n",
              "      <td>0.0</td>\n",
              "    </tr>\n",
              "    <tr>\n",
              "      <th>6</th>\n",
              "      <td>2845.0</td>\n",
              "      <td>0.0</td>\n",
              "      <td>0.285494</td>\n",
              "      <td>0.661188</td>\n",
              "      <td>0.045100</td>\n",
              "      <td>0.0</td>\n",
              "      <td>0.0</td>\n",
              "      <td>0.0</td>\n",
              "    </tr>\n",
              "    <tr>\n",
              "      <th>7</th>\n",
              "      <td>2845.0</td>\n",
              "      <td>0.0</td>\n",
              "      <td>0.285494</td>\n",
              "      <td>0.661188</td>\n",
              "      <td>0.045100</td>\n",
              "      <td>0.0</td>\n",
              "      <td>0.0</td>\n",
              "      <td>0.0</td>\n",
              "    </tr>\n",
              "    <tr>\n",
              "      <th>8</th>\n",
              "      <td>2849.0</td>\n",
              "      <td>0.0</td>\n",
              "      <td>1.224445</td>\n",
              "      <td>0.264724</td>\n",
              "      <td>1.356807</td>\n",
              "      <td>0.0</td>\n",
              "      <td>0.0</td>\n",
              "      <td>0.0</td>\n",
              "    </tr>\n",
              "    <tr>\n",
              "      <th>9</th>\n",
              "      <td>2767.0</td>\n",
              "      <td>0.0</td>\n",
              "      <td>0.358375</td>\n",
              "      <td>2.987016</td>\n",
              "      <td>1.135133</td>\n",
              "      <td>0.0</td>\n",
              "      <td>0.0</td>\n",
              "      <td>0.0</td>\n",
              "    </tr>\n",
              "  </tbody>\n",
              "</table>\n",
              "</div>\n",
              "    <div class=\"colab-df-buttons\">\n",
              "\n",
              "  <div class=\"colab-df-container\">\n",
              "    <button class=\"colab-df-convert\" onclick=\"convertToInteractive('df-93795ffe-fcd9-45c6-8270-1cb581c92e78')\"\n",
              "            title=\"Convert this dataframe to an interactive table.\"\n",
              "            style=\"display:none;\">\n",
              "\n",
              "  <svg xmlns=\"http://www.w3.org/2000/svg\" height=\"24px\" viewBox=\"0 -960 960 960\">\n",
              "    <path d=\"M120-120v-720h720v720H120Zm60-500h600v-160H180v160Zm220 220h160v-160H400v160Zm0 220h160v-160H400v160ZM180-400h160v-160H180v160Zm440 0h160v-160H620v160ZM180-180h160v-160H180v160Zm440 0h160v-160H620v160Z\"/>\n",
              "  </svg>\n",
              "    </button>\n",
              "\n",
              "  <style>\n",
              "    .colab-df-container {\n",
              "      display:flex;\n",
              "      gap: 12px;\n",
              "    }\n",
              "\n",
              "    .colab-df-convert {\n",
              "      background-color: #E8F0FE;\n",
              "      border: none;\n",
              "      border-radius: 50%;\n",
              "      cursor: pointer;\n",
              "      display: none;\n",
              "      fill: #1967D2;\n",
              "      height: 32px;\n",
              "      padding: 0 0 0 0;\n",
              "      width: 32px;\n",
              "    }\n",
              "\n",
              "    .colab-df-convert:hover {\n",
              "      background-color: #E2EBFA;\n",
              "      box-shadow: 0px 1px 2px rgba(60, 64, 67, 0.3), 0px 1px 3px 1px rgba(60, 64, 67, 0.15);\n",
              "      fill: #174EA6;\n",
              "    }\n",
              "\n",
              "    .colab-df-buttons div {\n",
              "      margin-bottom: 4px;\n",
              "    }\n",
              "\n",
              "    [theme=dark] .colab-df-convert {\n",
              "      background-color: #3B4455;\n",
              "      fill: #D2E3FC;\n",
              "    }\n",
              "\n",
              "    [theme=dark] .colab-df-convert:hover {\n",
              "      background-color: #434B5C;\n",
              "      box-shadow: 0px 1px 3px 1px rgba(0, 0, 0, 0.15);\n",
              "      filter: drop-shadow(0px 1px 2px rgba(0, 0, 0, 0.3));\n",
              "      fill: #FFFFFF;\n",
              "    }\n",
              "  </style>\n",
              "\n",
              "    <script>\n",
              "      const buttonEl =\n",
              "        document.querySelector('#df-93795ffe-fcd9-45c6-8270-1cb581c92e78 button.colab-df-convert');\n",
              "      buttonEl.style.display =\n",
              "        google.colab.kernel.accessAllowed ? 'block' : 'none';\n",
              "\n",
              "      async function convertToInteractive(key) {\n",
              "        const element = document.querySelector('#df-93795ffe-fcd9-45c6-8270-1cb581c92e78');\n",
              "        const dataTable =\n",
              "          await google.colab.kernel.invokeFunction('convertToInteractive',\n",
              "                                                    [key], {});\n",
              "        if (!dataTable) return;\n",
              "\n",
              "        const docLinkHtml = 'Like what you see? Visit the ' +\n",
              "          '<a target=\"_blank\" href=https://colab.research.google.com/notebooks/data_table.ipynb>data table notebook</a>'\n",
              "          + ' to learn more about interactive tables.';\n",
              "        element.innerHTML = '';\n",
              "        dataTable['output_type'] = 'display_data';\n",
              "        await google.colab.output.renderOutput(dataTable, element);\n",
              "        const docLink = document.createElement('div');\n",
              "        docLink.innerHTML = docLinkHtml;\n",
              "        element.appendChild(docLink);\n",
              "      }\n",
              "    </script>\n",
              "  </div>\n",
              "\n",
              "\n",
              "<div id=\"df-b5484959-ded1-434f-b8c2-8b60cf63561c\">\n",
              "  <button class=\"colab-df-quickchart\" onclick=\"quickchart('df-b5484959-ded1-434f-b8c2-8b60cf63561c')\"\n",
              "            title=\"Suggest charts.\"\n",
              "            style=\"display:none;\">\n",
              "\n",
              "<svg xmlns=\"http://www.w3.org/2000/svg\" height=\"24px\"viewBox=\"0 0 24 24\"\n",
              "     width=\"24px\">\n",
              "    <g>\n",
              "        <path d=\"M19 3H5c-1.1 0-2 .9-2 2v14c0 1.1.9 2 2 2h14c1.1 0 2-.9 2-2V5c0-1.1-.9-2-2-2zM9 17H7v-7h2v7zm4 0h-2V7h2v10zm4 0h-2v-4h2v4z\"/>\n",
              "    </g>\n",
              "</svg>\n",
              "  </button>\n",
              "\n",
              "<style>\n",
              "  .colab-df-quickchart {\n",
              "      --bg-color: #E8F0FE;\n",
              "      --fill-color: #1967D2;\n",
              "      --hover-bg-color: #E2EBFA;\n",
              "      --hover-fill-color: #174EA6;\n",
              "      --disabled-fill-color: #AAA;\n",
              "      --disabled-bg-color: #DDD;\n",
              "  }\n",
              "\n",
              "  [theme=dark] .colab-df-quickchart {\n",
              "      --bg-color: #3B4455;\n",
              "      --fill-color: #D2E3FC;\n",
              "      --hover-bg-color: #434B5C;\n",
              "      --hover-fill-color: #FFFFFF;\n",
              "      --disabled-bg-color: #3B4455;\n",
              "      --disabled-fill-color: #666;\n",
              "  }\n",
              "\n",
              "  .colab-df-quickchart {\n",
              "    background-color: var(--bg-color);\n",
              "    border: none;\n",
              "    border-radius: 50%;\n",
              "    cursor: pointer;\n",
              "    display: none;\n",
              "    fill: var(--fill-color);\n",
              "    height: 32px;\n",
              "    padding: 0;\n",
              "    width: 32px;\n",
              "  }\n",
              "\n",
              "  .colab-df-quickchart:hover {\n",
              "    background-color: var(--hover-bg-color);\n",
              "    box-shadow: 0 1px 2px rgba(60, 64, 67, 0.3), 0 1px 3px 1px rgba(60, 64, 67, 0.15);\n",
              "    fill: var(--button-hover-fill-color);\n",
              "  }\n",
              "\n",
              "  .colab-df-quickchart-complete:disabled,\n",
              "  .colab-df-quickchart-complete:disabled:hover {\n",
              "    background-color: var(--disabled-bg-color);\n",
              "    fill: var(--disabled-fill-color);\n",
              "    box-shadow: none;\n",
              "  }\n",
              "\n",
              "  .colab-df-spinner {\n",
              "    border: 2px solid var(--fill-color);\n",
              "    border-color: transparent;\n",
              "    border-bottom-color: var(--fill-color);\n",
              "    animation:\n",
              "      spin 1s steps(1) infinite;\n",
              "  }\n",
              "\n",
              "  @keyframes spin {\n",
              "    0% {\n",
              "      border-color: transparent;\n",
              "      border-bottom-color: var(--fill-color);\n",
              "      border-left-color: var(--fill-color);\n",
              "    }\n",
              "    20% {\n",
              "      border-color: transparent;\n",
              "      border-left-color: var(--fill-color);\n",
              "      border-top-color: var(--fill-color);\n",
              "    }\n",
              "    30% {\n",
              "      border-color: transparent;\n",
              "      border-left-color: var(--fill-color);\n",
              "      border-top-color: var(--fill-color);\n",
              "      border-right-color: var(--fill-color);\n",
              "    }\n",
              "    40% {\n",
              "      border-color: transparent;\n",
              "      border-right-color: var(--fill-color);\n",
              "      border-top-color: var(--fill-color);\n",
              "    }\n",
              "    60% {\n",
              "      border-color: transparent;\n",
              "      border-right-color: var(--fill-color);\n",
              "    }\n",
              "    80% {\n",
              "      border-color: transparent;\n",
              "      border-right-color: var(--fill-color);\n",
              "      border-bottom-color: var(--fill-color);\n",
              "    }\n",
              "    90% {\n",
              "      border-color: transparent;\n",
              "      border-bottom-color: var(--fill-color);\n",
              "    }\n",
              "  }\n",
              "</style>\n",
              "\n",
              "  <script>\n",
              "    async function quickchart(key) {\n",
              "      const quickchartButtonEl =\n",
              "        document.querySelector('#' + key + ' button');\n",
              "      quickchartButtonEl.disabled = true;  // To prevent multiple clicks.\n",
              "      quickchartButtonEl.classList.add('colab-df-spinner');\n",
              "      try {\n",
              "        const charts = await google.colab.kernel.invokeFunction(\n",
              "            'suggestCharts', [key], {});\n",
              "      } catch (error) {\n",
              "        console.error('Error during call to suggestCharts:', error);\n",
              "      }\n",
              "      quickchartButtonEl.classList.remove('colab-df-spinner');\n",
              "      quickchartButtonEl.classList.add('colab-df-quickchart-complete');\n",
              "    }\n",
              "    (() => {\n",
              "      let quickchartButtonEl =\n",
              "        document.querySelector('#df-b5484959-ded1-434f-b8c2-8b60cf63561c button');\n",
              "      quickchartButtonEl.style.display =\n",
              "        google.colab.kernel.accessAllowed ? 'block' : 'none';\n",
              "    })();\n",
              "  </script>\n",
              "</div>\n",
              "    </div>\n",
              "  </div>\n"
            ],
            "text/plain": [
              "   job_id  Probabilidade  dif_média_genius  dif_média_life  dif_média_geral  \\\n",
              "0  2915.0            1.0          0.611030        0.018262         0.601899   \n",
              "1  2727.0            0.0          1.141561        0.294282         0.994420   \n",
              "2  2840.0            0.0          1.174759        0.048894         1.199206   \n",
              "3  2811.0            0.0          0.611404        0.121251         0.672029   \n",
              "4  2845.0            0.0          0.285494        0.661188         0.045100   \n",
              "5  2845.0            0.0          0.285494        0.661188         0.045100   \n",
              "6  2845.0            0.0          0.285494        0.661188         0.045100   \n",
              "7  2845.0            0.0          0.285494        0.661188         0.045100   \n",
              "8  2849.0            0.0          1.224445        0.264724         1.356807   \n",
              "9  2767.0            0.0          0.358375        2.987016         1.135133   \n",
              "\n",
              "   lat_dif  long_dif  grupo  \n",
              "0      0.0       0.0    0.0  \n",
              "1      0.0       0.0    0.0  \n",
              "2      0.0       0.0    0.0  \n",
              "3      0.0       0.0    0.0  \n",
              "4      0.0       0.0    0.0  \n",
              "5      0.0       0.0    0.0  \n",
              "6      0.0       0.0    0.0  \n",
              "7      0.0       0.0    0.0  \n",
              "8      0.0       0.0    0.0  \n",
              "9      0.0       0.0    0.0  "
            ]
          },
          "execution_count": 54,
          "metadata": {},
          "output_type": "execute_result"
        }
      ],
      "source": [
        "recomendacoes_naive_bayes"
      ]
    },
    {
      "cell_type": "markdown",
      "metadata": {
        "id": "pMvs1fhstZlR"
      },
      "source": [
        "Analisando os 3 modelos, é possivel perceber que o que mantém maior consistência, em relação à métrica de sucesso, é o knn, pois o random forest apresenta flutuações ao longo das recomendações, apresentando por alguns momentos uma diferença significativa em relação as demais recomendações. Já o Naive bayes, além de possuir apenas 1 recomendação com probabilidade diferente de 0, ele possui flutuações na diferença entre médias e uma diferença maior no geral.\n"
      ]
    },
    {
      "cell_type": "markdown",
      "metadata": {
        "id": "HNjeTatdtbsF"
      },
      "source": [
        "No Geral, o KNN se saiu melhor, além de ser o mais adequado para o tipo de problema de recomendção devido a sua natureza de calcular distâncias. Esta natureza éque faz com que o algoritimo consiga capturar melhor a similaridade entre os dados, neste caso gestor e usuário. Além disso, levando em conta a filtragem colaborativa, e a máxima de que se duas pessoas são semelhantes elas gostarão das mesmas coisas, ou se darão bem, o melhor modelo continua sendo o KNN.\n"
      ]
    },
    {
      "cell_type": "markdown",
      "metadata": {
        "id": "qS1TFPmoteQr"
      },
      "source": [
        "Além das features de Scores, todos os modelos filtram baseados na localização, utilizando a longitude e latitude do usuário. Devido a isso, caso o Bettha obtenha informações de longitude e latitude mais precisas, o KNN performará melhor devido as mesmas questões citadas anteriormente.\n",
        "Portanto o modelo escolhido é o KNN."
      ]
    }
  ],
  "metadata": {
    "colab": {
      "provenance": [],
      "toc_visible": true
    },
    "kernelspec": {
      "display_name": "Python 3",
      "name": "python3"
    },
    "language_info": {
      "name": "python"
    }
  },
  "nbformat": 4,
  "nbformat_minor": 0
}
